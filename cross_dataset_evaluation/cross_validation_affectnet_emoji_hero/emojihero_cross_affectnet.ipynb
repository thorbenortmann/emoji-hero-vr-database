{
 "cells": [
  {
   "cell_type": "code",
   "outputs": [],
   "source": [
    "from pathlib import Path\n",
    "\n",
    "dataset_path = Path(r'/home/thor/Desktop/datasets/emoji-hero')\n",
    "training_set_path = dataset_path / 'training_set'\n",
    "validation_set_path = dataset_path / 'validation_set'\n",
    "test_set_path = dataset_path / 'test_set'\n",
    "\n",
    "id_to_emotion = {\n",
    "    0: 'Neutral',\n",
    "    1: 'Happy',\n",
    "    2: 'Sad',\n",
    "    3: 'Surprise',\n",
    "    4: 'Fear',\n",
    "    5: 'Disgust',\n",
    "    6: 'Anger',\n",
    "}\n"
   ],
   "metadata": {
    "collapsed": true,
    "ExecuteTime": {
     "end_time": "2024-03-20T13:27:17.796230127Z",
     "start_time": "2024-03-20T13:27:17.795660225Z"
    }
   },
   "id": "initial_id",
   "execution_count": 1
  },
  {
   "cell_type": "code",
   "outputs": [],
   "source": [
    "def compute_class_frequencies(dataset_path: Path) -> dict:\n",
    "    class_frequencies = {}\n",
    "    for class_dir in sorted(dataset_path.iterdir()):\n",
    "        num_files = sum(1 for _ in class_dir.iterdir())\n",
    "        class_id = int(class_dir.name)\n",
    "        class_frequencies[class_id] = num_files\n",
    "        print(f'{class_id} - {id_to_emotion[class_id]:<9} : {num_files:>8} images')\n",
    "\n",
    "    return class_frequencies\n"
   ],
   "metadata": {
    "collapsed": false,
    "ExecuteTime": {
     "end_time": "2024-03-20T13:27:17.796666430Z",
     "start_time": "2024-03-20T13:27:17.795966158Z"
    }
   },
   "id": "c17e1fe8c4f3bc49",
   "execution_count": 2
  },
  {
   "cell_type": "code",
   "outputs": [
    {
     "name": "stderr",
     "output_type": "stream",
     "text": [
      "2024-03-20 14:27:17.949669: I tensorflow/core/util/port.cc:113] oneDNN custom operations are on. You may see slightly different numerical results due to floating-point round-off errors from different computation orders. To turn them off, set the environment variable `TF_ENABLE_ONEDNN_OPTS=0`.\n",
      "2024-03-20 14:27:17.970003: E external/local_xla/xla/stream_executor/cuda/cuda_dnn.cc:9261] Unable to register cuDNN factory: Attempting to register factory for plugin cuDNN when one has already been registered\n",
      "2024-03-20 14:27:17.970023: E external/local_xla/xla/stream_executor/cuda/cuda_fft.cc:607] Unable to register cuFFT factory: Attempting to register factory for plugin cuFFT when one has already been registered\n",
      "2024-03-20 14:27:17.970530: E external/local_xla/xla/stream_executor/cuda/cuda_blas.cc:1515] Unable to register cuBLAS factory: Attempting to register factory for plugin cuBLAS when one has already been registered\n",
      "2024-03-20 14:27:17.973965: I tensorflow/core/platform/cpu_feature_guard.cc:182] This TensorFlow binary is optimized to use available CPU instructions in performance-critical operations.\n",
      "To enable the following instructions: AVX2 AVX_VNNI FMA, in other operations, rebuild TensorFlow with the appropriate compiler flags.\n",
      "2024-03-20 14:27:18.426954: W tensorflow/compiler/tf2tensorrt/utils/py_utils.cc:38] TF-TRT Warning: Could not find TensorRT\n",
      "2024-03-20 14:27:18.883454: I external/local_xla/xla/stream_executor/cuda/cuda_executor.cc:901] successful NUMA node read from SysFS had negative value (-1), but there must be at least one NUMA node, so returning NUMA node zero. See more at https://github.com/torvalds/linux/blob/v6.0/Documentation/ABI/testing/sysfs-bus-pci#L344-L355\n",
      "2024-03-20 14:27:18.903819: I external/local_xla/xla/stream_executor/cuda/cuda_executor.cc:901] successful NUMA node read from SysFS had negative value (-1), but there must be at least one NUMA node, so returning NUMA node zero. See more at https://github.com/torvalds/linux/blob/v6.0/Documentation/ABI/testing/sysfs-bus-pci#L344-L355\n",
      "2024-03-20 14:27:18.903933: I external/local_xla/xla/stream_executor/cuda/cuda_executor.cc:901] successful NUMA node read from SysFS had negative value (-1), but there must be at least one NUMA node, so returning NUMA node zero. See more at https://github.com/torvalds/linux/blob/v6.0/Documentation/ABI/testing/sysfs-bus-pci#L344-L355\n",
      "2024-03-20 14:27:18.905547: I external/local_xla/xla/stream_executor/cuda/cuda_executor.cc:901] successful NUMA node read from SysFS had negative value (-1), but there must be at least one NUMA node, so returning NUMA node zero. See more at https://github.com/torvalds/linux/blob/v6.0/Documentation/ABI/testing/sysfs-bus-pci#L344-L355\n",
      "2024-03-20 14:27:18.905618: I external/local_xla/xla/stream_executor/cuda/cuda_executor.cc:901] successful NUMA node read from SysFS had negative value (-1), but there must be at least one NUMA node, so returning NUMA node zero. See more at https://github.com/torvalds/linux/blob/v6.0/Documentation/ABI/testing/sysfs-bus-pci#L344-L355\n",
      "2024-03-20 14:27:18.905661: I external/local_xla/xla/stream_executor/cuda/cuda_executor.cc:901] successful NUMA node read from SysFS had negative value (-1), but there must be at least one NUMA node, so returning NUMA node zero. See more at https://github.com/torvalds/linux/blob/v6.0/Documentation/ABI/testing/sysfs-bus-pci#L344-L355\n",
      "2024-03-20 14:27:18.934990: I external/local_xla/xla/stream_executor/cuda/cuda_executor.cc:901] successful NUMA node read from SysFS had negative value (-1), but there must be at least one NUMA node, so returning NUMA node zero. See more at https://github.com/torvalds/linux/blob/v6.0/Documentation/ABI/testing/sysfs-bus-pci#L344-L355\n",
      "2024-03-20 14:27:18.935088: I external/local_xla/xla/stream_executor/cuda/cuda_executor.cc:901] successful NUMA node read from SysFS had negative value (-1), but there must be at least one NUMA node, so returning NUMA node zero. See more at https://github.com/torvalds/linux/blob/v6.0/Documentation/ABI/testing/sysfs-bus-pci#L344-L355\n",
      "2024-03-20 14:27:18.935152: I external/local_xla/xla/stream_executor/cuda/cuda_executor.cc:901] successful NUMA node read from SysFS had negative value (-1), but there must be at least one NUMA node, so returning NUMA node zero. See more at https://github.com/torvalds/linux/blob/v6.0/Documentation/ABI/testing/sysfs-bus-pci#L344-L355\n",
      "2024-03-20 14:27:18.935196: I tensorflow/core/common_runtime/gpu/gpu_device.cc:1929] Created device /job:localhost/replica:0/task:0/device:GPU:0 with 987 MB memory:  -> device: 0, name: NVIDIA GeForce RTX 3090, pci bus id: 0000:01:00.0, compute capability: 8.6\n"
     ]
    }
   ],
   "source": [
    "from tensorflow.keras.models import load_model\n",
    "\n",
    "model = load_model(\n",
    "    r'/home/thor/Desktop/repos/emoji-hero-baseline/affectnet_transfer_imagenet_complete_unfreeze_checkpoints_20240319-2236/best_model_phase_2.keras')"
   ],
   "metadata": {
    "collapsed": false,
    "ExecuteTime": {
     "end_time": "2024-03-20T13:27:30.441350617Z",
     "start_time": "2024-03-20T13:27:17.796094822Z"
    }
   },
   "id": "dd6d67445637ba02",
   "execution_count": 3
  },
  {
   "cell_type": "code",
   "outputs": [],
   "source": [
    "BATCH_SIZE = 32\n",
    "IMAGE_SIZE = (224, 224)\n",
    "SEED = 42\n"
   ],
   "metadata": {
    "collapsed": false,
    "ExecuteTime": {
     "end_time": "2024-03-20T13:27:30.441779695Z",
     "start_time": "2024-03-20T13:27:30.434164346Z"
    }
   },
   "id": "8a831a38779a970f",
   "execution_count": 4
  },
  {
   "cell_type": "code",
   "outputs": [
    {
     "name": "stdout",
     "output_type": "stream",
     "text": [
      "\n",
      "---TRAINING SET---\n",
      "Found 2030 files belonging to 7 classes.\n",
      "0 - Neutral   :      414 images\n",
      "1 - Happy     :      400 images\n",
      "2 - Sad       :      274 images\n",
      "3 - Surprise  :      360 images\n",
      "4 - Fear      :      220 images\n",
      "5 - Disgust   :      212 images\n",
      "6 - Anger     :      150 images\n",
      "\n",
      "---VALIDATION SET---\n",
      "Found 770 files belonging to 7 classes.\n",
      "0 - Neutral   :      110 images\n",
      "1 - Happy     :      110 images\n",
      "2 - Sad       :      110 images\n",
      "3 - Surprise  :      110 images\n",
      "4 - Fear      :      110 images\n",
      "5 - Disgust   :      110 images\n",
      "6 - Anger     :      110 images\n",
      "\n",
      "---TEST SET---\n",
      "Found 756 files belonging to 7 classes.\n",
      "0 - Neutral   :      108 images\n",
      "1 - Happy     :      108 images\n",
      "2 - Sad       :      108 images\n",
      "3 - Surprise  :      108 images\n",
      "4 - Fear      :      108 images\n",
      "5 - Disgust   :      108 images\n",
      "6 - Anger     :      108 images\n"
     ]
    },
    {
     "data": {
      "text/plain": "{0: 108, 1: 108, 2: 108, 3: 108, 4: 108, 5: 108, 6: 108}"
     },
     "execution_count": 5,
     "metadata": {},
     "output_type": "execute_result"
    }
   ],
   "source": [
    "from tensorflow import keras\n",
    "\n",
    "print('\\n---TRAINING SET---')\n",
    "training_set = keras.preprocessing.image_dataset_from_directory(training_set_path,\n",
    "                                                                batch_size=BATCH_SIZE,\n",
    "                                                                image_size=IMAGE_SIZE,\n",
    "                                                                shuffle=False)\n",
    "compute_class_frequencies(training_set_path)\n",
    "\n",
    "print('\\n---VALIDATION SET---')\n",
    "validation_set = keras.preprocessing.image_dataset_from_directory(validation_set_path,\n",
    "                                                                  batch_size=BATCH_SIZE,\n",
    "                                                                  image_size=IMAGE_SIZE,\n",
    "                                                                  shuffle=False)\n",
    "compute_class_frequencies(validation_set_path)\n",
    "\n",
    "print('\\n---TEST SET---')\n",
    "test_set = keras.preprocessing.image_dataset_from_directory(test_set_path,\n",
    "                                                            batch_size=BATCH_SIZE,\n",
    "                                                            image_size=IMAGE_SIZE,\n",
    "                                                            shuffle=False)\n",
    "compute_class_frequencies(test_set_path)\n"
   ],
   "metadata": {
    "collapsed": false,
    "ExecuteTime": {
     "end_time": "2024-03-20T13:27:30.543795821Z",
     "start_time": "2024-03-20T13:27:30.436669943Z"
    }
   },
   "id": "1d3d1c2b782dbedd",
   "execution_count": 5
  },
  {
   "cell_type": "code",
   "outputs": [
    {
     "name": "stderr",
     "output_type": "stream",
     "text": [
      "2024-03-20 14:27:32.059146: I external/local_tsl/tsl/platform/default/subprocess.cc:304] Start cannot spawn child process: No such file or directory\n",
      "2024-03-20 14:27:32.272501: I external/local_xla/xla/stream_executor/cuda/cuda_dnn.cc:454] Loaded cuDNN version 8904\n",
      "2024-03-20 14:27:32.314848: I external/local_tsl/tsl/platform/default/subprocess.cc:304] Start cannot spawn child process: No such file or directory\n"
     ]
    },
    {
     "name": "stdout",
     "output_type": "stream",
     "text": [
      "64/64 [==============================] - 4s 30ms/step - loss: 1.7381 - accuracy: 0.4128\n",
      "TRAINING accuracy: 0.4128078818321228\n"
     ]
    }
   ],
   "source": [
    "train_loss, train_acc = model.evaluate(training_set)\n",
    "print(f\"TRAINING accuracy: {train_acc}\")"
   ],
   "metadata": {
    "collapsed": false,
    "ExecuteTime": {
     "end_time": "2024-03-20T13:27:34.520741129Z",
     "start_time": "2024-03-20T13:27:30.541496963Z"
    }
   },
   "id": "ba5b76a92c8f6bc7",
   "execution_count": 6
  },
  {
   "cell_type": "code",
   "outputs": [
    {
     "name": "stdout",
     "output_type": "stream",
     "text": [
      "25/25 [==============================] - 1s 25ms/step - loss: 2.0188 - accuracy: 0.3338\n",
      "VALIDATION accuracy: 0.33376622200012207\n"
     ]
    }
   ],
   "source": [
    "val_loss, val_acc = model.evaluate(validation_set)\n",
    "print(f\"VALIDATION accuracy: {val_acc}\")"
   ],
   "metadata": {
    "collapsed": false,
    "ExecuteTime": {
     "end_time": "2024-03-20T13:27:35.163319180Z",
     "start_time": "2024-03-20T13:27:34.521422249Z"
    }
   },
   "id": "f47d9cca030cabb9",
   "execution_count": 7
  },
  {
   "cell_type": "code",
   "outputs": [
    {
     "name": "stdout",
     "output_type": "stream",
     "text": [
      "24/24 [==============================] - 1s 25ms/step - loss: 1.9243 - accuracy: 0.3757\n",
      "TEST accuracy: 0.37566137313842773\n"
     ]
    }
   ],
   "source": [
    "test_loss, test_acc = model.evaluate(test_set)\n",
    "print(f\"TEST accuracy: {test_acc}\")"
   ],
   "metadata": {
    "collapsed": false,
    "ExecuteTime": {
     "end_time": "2024-03-20T13:27:35.778629593Z",
     "start_time": "2024-03-20T13:27:35.163361485Z"
    }
   },
   "id": "1883a550bc096ee9",
   "execution_count": 8
  },
  {
   "cell_type": "code",
   "outputs": [],
   "source": [
    "combined_set = validation_set.concatenate(test_set)"
   ],
   "metadata": {
    "collapsed": false,
    "ExecuteTime": {
     "end_time": "2024-03-20T13:27:35.793268985Z",
     "start_time": "2024-03-20T13:27:35.778906280Z"
    }
   },
   "id": "3e1e32b434d483d0",
   "execution_count": 9
  },
  {
   "cell_type": "code",
   "outputs": [
    {
     "name": "stdout",
     "output_type": "stream",
     "text": [
      "49/49 [==============================] - 1s 25ms/step - loss: 1.9720 - accuracy: 0.3545\n",
      "TOTAL accuracy: 0.35452163219451904\n"
     ]
    }
   ],
   "source": [
    "total_loss, total_acc = model.evaluate(combined_set)\n",
    "print(f\"TOTAL accuracy: {total_acc}\")"
   ],
   "metadata": {
    "collapsed": false,
    "ExecuteTime": {
     "end_time": "2024-03-20T13:27:37.038288075Z",
     "start_time": "2024-03-20T13:27:35.782192086Z"
    }
   },
   "id": "7cd3ab21268318cd",
   "execution_count": 10
  },
  {
   "cell_type": "code",
   "outputs": [
    {
     "name": "stdout",
     "output_type": "stream",
     "text": [
      "49/49 [==============================] - 2s 25ms/step\n",
      "              precision    recall  f1-score   support\n",
      "\n",
      "     Neutral     0.2390    0.6697    0.3522       218\n",
      "       Happy     0.7252    0.4358    0.5444       218\n",
      "         Sad     0.5200    0.1789    0.2662       218\n",
      "    Surprise     0.4301    0.9174    0.5857       218\n",
      "        Fear     0.1333    0.0092    0.0172       218\n",
      "     Disgust     0.3134    0.1927    0.2386       218\n",
      "       Anger     0.1789    0.0780    0.1086       218\n",
      "\n",
      "    accuracy                         0.3545      1526\n",
      "   macro avg     0.3629    0.3545    0.3018      1526\n",
      "weighted avg     0.3629    0.3545    0.3018      1526\n"
     ]
    }
   ],
   "source": [
    "import numpy as np\n",
    "from sklearn.metrics import classification_report\n",
    "\n",
    "y_pred_vectors = model.predict(combined_set)\n",
    "y_pred = np.argmax(y_pred_vectors, axis=1)\n",
    "y_true = np.concatenate([y for _, y in combined_set], axis=0)\n",
    "\n",
    "report = classification_report(y_true, y_pred, target_names=id_to_emotion.values(), digits=4)\n",
    "print(report)"
   ],
   "metadata": {
    "collapsed": false,
    "ExecuteTime": {
     "end_time": "2024-03-20T13:27:39.279420577Z",
     "start_time": "2024-03-20T13:27:37.039219006Z"
    }
   },
   "id": "914b692b48639591",
   "execution_count": 11
  },
  {
   "cell_type": "code",
   "outputs": [
    {
     "name": "stdout",
     "output_type": "stream",
     "text": [
      "[[146   1  11  15   0  11  34]\n",
      " [ 62  95   1  28   2  27   3]\n",
      " [ 98   3  39  32   0  13  33]\n",
      " [ 10   2   0 200   0   6   0]\n",
      " [ 91   5   7  83   2  28   2]\n",
      " [ 94   8   8  58   2  42   6]\n",
      " [110  17   9  49   9   7  17]]\n"
     ]
    },
    {
     "data": {
      "text/plain": "<Figure size 1000x800 with 2 Axes>",
      "image/png": "[encoded data removed]"
     },
     "metadata": {},
     "output_type": "display_data"
    }
   ],
   "source": [
    "from sklearn.metrics import confusion_matrix\n",
    "import matplotlib.pyplot as plt\n",
    "import seaborn as sns\n",
    "\n",
    "\n",
    "def plot_confusion_matrix(y_true, y_pred):\n",
    "    class_names = id_to_emotion.values()\n",
    "\n",
    "    cm = confusion_matrix(y_true, y_pred)\n",
    "    print(cm)\n",
    "\n",
    "    fig = plt.figure(figsize=(10, 8))\n",
    "    sns.heatmap(cm, annot=True, fmt='d', cmap='Blues', xticklabels=class_names, yticklabels=class_names)\n",
    "    plt.title('Confusion Matrix')\n",
    "    plt.xlabel('Predicted Class')\n",
    "    plt.ylabel('Actual Class')\n",
    "    plt.tight_layout()\n",
    "    plt.show()\n",
    "\n",
    "    return fig\n",
    "\n",
    "\n",
    "cm_figure = plot_confusion_matrix(y_true, y_pred)\n"
   ],
   "metadata": {
    "collapsed": false,
    "ExecuteTime": {
     "end_time": "2024-03-20T13:27:39.429914775Z",
     "start_time": "2024-03-20T13:27:39.279521741Z"
    }
   },
   "id": "176b9ffbadf9bda2",
   "execution_count": 12
  },
  {
   "cell_type": "code",
   "outputs": [],
   "source": [
    "result_dir = Path('cross_validation_affectnet_emoji_hero')\n",
    "result_dir.mkdir(exist_ok=True)\n",
    "\n",
    "\n",
    "def save_evaluation_results(report, cm_figure, checkpoint_dir):\n",
    "    with (checkpoint_dir / 'classification_report.txt').open(mode='w') as f:\n",
    "        f.write(report)\n",
    "    cm_figure.savefig(str(checkpoint_dir / 'confusion_matrix.png'))\n",
    "\n",
    "\n",
    "save_evaluation_results(report, cm_figure, result_dir)"
   ],
   "metadata": {
    "collapsed": false,
    "ExecuteTime": {
     "end_time": "2024-03-20T13:27:39.495821083Z",
     "start_time": "2024-03-20T13:27:39.431200617Z"
    }
   },
   "id": "f7604a9a8f50f9b2",
   "execution_count": 13
  },
  {
   "cell_type": "code",
   "outputs": [
    {
     "data": {
      "text/plain": "PosixPath('cross_validation_affectnet_emoji_hero/emojihero_cross_affectnet.ipynb')"
     },
     "execution_count": 14,
     "metadata": {},
     "output_type": "execute_result"
    }
   ],
   "source": [
    "import shutil\n",
    "\n",
    "path_to_this_notebook = Path(\n",
    "    '/home/thor/Desktop/repos/emoji-hero-baseline/emojihero_cross_affectnet.ipynb')\n",
    "\n",
    "shutil.copy2(path_to_this_notebook, (result_dir / path_to_this_notebook.name))"
   ],
   "metadata": {
    "collapsed": false,
    "ExecuteTime": {
     "end_time": "2024-03-20T13:27:39.535774922Z",
     "start_time": "2024-03-20T13:27:39.494793324Z"
    }
   },
   "id": "1b84095413e45954",
   "execution_count": 14
  }
 ],
 "metadata": {
  "kernelspec": {
   "display_name": "Python 3",
   "language": "python",
   "name": "python3"
  },
  "language_info": {
   "codemirror_mode": {
    "name": "ipython",
    "version": 2
   },
   "file_extension": ".py",
   "mimetype": "text/x-python",
   "name": "python",
   "nbconvert_exporter": "python",
   "pygments_lexer": "ipython2",
   "version": "2.7.6"
  }
 },
 "nbformat": 4,
 "nbformat_minor": 5
}
