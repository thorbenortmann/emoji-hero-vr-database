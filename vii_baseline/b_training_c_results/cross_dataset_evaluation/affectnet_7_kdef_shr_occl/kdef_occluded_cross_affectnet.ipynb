{
 "cells": [
  {
   "cell_type": "code",
   "outputs": [],
   "source": [
    "from pathlib import Path\n",
    "\n",
    "dataset_path = Path(r'/home/thor/Desktop/datasets/kdef/original/KDEF-HRS-organized421414-cropped16400-occluded')\n",
    "training_set_path = dataset_path / 'training_set'\n",
    "validation_set_path = dataset_path / 'validation_set'\n",
    "test_set_path = dataset_path / 'test_set'\n",
    "\n",
    "id_to_emotion = {\n",
    "    0: 'Neutral',\n",
    "    1: 'Happy',\n",
    "    2: 'Sad',\n",
    "    3: 'Surprise',\n",
    "    4: 'Fear',\n",
    "    5: 'Disgust',\n",
    "    6: 'Anger',\n",
    "}\n"
   ],
   "metadata": {
    "collapsed": true,
    "ExecuteTime": {
     "end_time": "2024-03-20T13:18:02.424286923Z",
     "start_time": "2024-03-20T13:18:02.423660964Z"
    }
   },
   "id": "initial_id",
   "execution_count": 1
  },
  {
   "cell_type": "code",
   "outputs": [],
   "source": [
    "def compute_class_frequencies(dataset_path: Path) -> dict:\n",
    "    class_frequencies = {}\n",
    "    for class_dir in sorted(dataset_path.iterdir()):\n",
    "        num_files = sum(1 for _ in class_dir.iterdir())\n",
    "        class_id = int(class_dir.name)\n",
    "        class_frequencies[class_id] = num_files\n",
    "        print(f'{class_id} - {id_to_emotion[class_id]:<9} : {num_files:>8} images')\n",
    "\n",
    "    return class_frequencies\n"
   ],
   "metadata": {
    "collapsed": false,
    "ExecuteTime": {
     "end_time": "2024-03-20T13:18:02.424656184Z",
     "start_time": "2024-03-20T13:18:02.423870570Z"
    }
   },
   "id": "c17e1fe8c4f3bc49",
   "execution_count": 2
  },
  {
   "cell_type": "code",
   "outputs": [
    {
     "name": "stderr",
     "output_type": "stream",
     "text": [
      "2024-03-20 14:18:02.584764: I tensorflow/core/util/port.cc:113] oneDNN custom operations are on. You may see slightly different numerical results due to floating-point round-off errors from different computation orders. To turn them off, set the environment variable `TF_ENABLE_ONEDNN_OPTS=0`.\n",
      "2024-03-20 14:18:02.605488: E external/local_xla/xla/stream_executor/cuda/cuda_dnn.cc:9261] Unable to register cuDNN factory: Attempting to register factory for plugin cuDNN when one has already been registered\n",
      "2024-03-20 14:18:02.605508: E external/local_xla/xla/stream_executor/cuda/cuda_fft.cc:607] Unable to register cuFFT factory: Attempting to register factory for plugin cuFFT when one has already been registered\n",
      "2024-03-20 14:18:02.606033: E external/local_xla/xla/stream_executor/cuda/cuda_blas.cc:1515] Unable to register cuBLAS factory: Attempting to register factory for plugin cuBLAS when one has already been registered\n",
      "2024-03-20 14:18:02.609477: I tensorflow/core/platform/cpu_feature_guard.cc:182] This TensorFlow binary is optimized to use available CPU instructions in performance-critical operations.\n",
      "To enable the following instructions: AVX2 AVX_VNNI FMA, in other operations, rebuild TensorFlow with the appropriate compiler flags.\n",
      "2024-03-20 14:18:03.070536: W tensorflow/compiler/tf2tensorrt/utils/py_utils.cc:38] TF-TRT Warning: Could not find TensorRT\n",
      "2024-03-20 14:18:03.519403: I external/local_xla/xla/stream_executor/cuda/cuda_executor.cc:901] successful NUMA node read from SysFS had negative value (-1), but there must be at least one NUMA node, so returning NUMA node zero. See more at https://github.com/torvalds/linux/blob/v6.0/Documentation/ABI/testing/sysfs-bus-pci#L344-L355\n",
      "2024-03-20 14:18:03.538175: I external/local_xla/xla/stream_executor/cuda/cuda_executor.cc:901] successful NUMA node read from SysFS had negative value (-1), but there must be at least one NUMA node, so returning NUMA node zero. See more at https://github.com/torvalds/linux/blob/v6.0/Documentation/ABI/testing/sysfs-bus-pci#L344-L355\n",
      "2024-03-20 14:18:03.538291: I external/local_xla/xla/stream_executor/cuda/cuda_executor.cc:901] successful NUMA node read from SysFS had negative value (-1), but there must be at least one NUMA node, so returning NUMA node zero. See more at https://github.com/torvalds/linux/blob/v6.0/Documentation/ABI/testing/sysfs-bus-pci#L344-L355\n",
      "2024-03-20 14:18:03.539324: I external/local_xla/xla/stream_executor/cuda/cuda_executor.cc:901] successful NUMA node read from SysFS had negative value (-1), but there must be at least one NUMA node, so returning NUMA node zero. See more at https://github.com/torvalds/linux/blob/v6.0/Documentation/ABI/testing/sysfs-bus-pci#L344-L355\n",
      "2024-03-20 14:18:03.539401: I external/local_xla/xla/stream_executor/cuda/cuda_executor.cc:901] successful NUMA node read from SysFS had negative value (-1), but there must be at least one NUMA node, so returning NUMA node zero. See more at https://github.com/torvalds/linux/blob/v6.0/Documentation/ABI/testing/sysfs-bus-pci#L344-L355\n",
      "2024-03-20 14:18:03.539445: I external/local_xla/xla/stream_executor/cuda/cuda_executor.cc:901] successful NUMA node read from SysFS had negative value (-1), but there must be at least one NUMA node, so returning NUMA node zero. See more at https://github.com/torvalds/linux/blob/v6.0/Documentation/ABI/testing/sysfs-bus-pci#L344-L355\n",
      "2024-03-20 14:18:03.569398: I external/local_xla/xla/stream_executor/cuda/cuda_executor.cc:901] successful NUMA node read from SysFS had negative value (-1), but there must be at least one NUMA node, so returning NUMA node zero. See more at https://github.com/torvalds/linux/blob/v6.0/Documentation/ABI/testing/sysfs-bus-pci#L344-L355\n",
      "2024-03-20 14:18:03.569490: I external/local_xla/xla/stream_executor/cuda/cuda_executor.cc:901] successful NUMA node read from SysFS had negative value (-1), but there must be at least one NUMA node, so returning NUMA node zero. See more at https://github.com/torvalds/linux/blob/v6.0/Documentation/ABI/testing/sysfs-bus-pci#L344-L355\n",
      "2024-03-20 14:18:03.569546: I external/local_xla/xla/stream_executor/cuda/cuda_executor.cc:901] successful NUMA node read from SysFS had negative value (-1), but there must be at least one NUMA node, so returning NUMA node zero. See more at https://github.com/torvalds/linux/blob/v6.0/Documentation/ABI/testing/sysfs-bus-pci#L344-L355\n",
      "2024-03-20 14:18:03.569590: I tensorflow/core/common_runtime/gpu/gpu_device.cc:1929] Created device /job:localhost/replica:0/task:0/device:GPU:0 with 995 MB memory:  -> device: 0, name: NVIDIA GeForce RTX 3090, pci bus id: 0000:01:00.0, compute capability: 8.6\n"
     ]
    }
   ],
   "source": [
    "from tensorflow.keras.models import load_model\n",
    "\n",
    "model = load_model(\n",
    "    r'/home/thor/Desktop/repos/emoji-hero-baseline/affectnet_transfer_imagenet_complete_unfreeze_checkpoints_20240319-2236/best_model_phase_2.keras')\n"
   ],
   "metadata": {
    "collapsed": false,
    "ExecuteTime": {
     "end_time": "2024-03-20T13:18:14.879601642Z",
     "start_time": "2024-03-20T13:18:02.424007122Z"
    }
   },
   "id": "dd6d67445637ba02",
   "execution_count": 3
  },
  {
   "cell_type": "code",
   "outputs": [],
   "source": [
    "BATCH_SIZE = 32\n",
    "IMAGE_SIZE = (224, 224)\n",
    "SEED = 42\n"
   ],
   "metadata": {
    "collapsed": false,
    "ExecuteTime": {
     "end_time": "2024-03-20T13:18:14.883642387Z",
     "start_time": "2024-03-20T13:18:14.880665068Z"
    }
   },
   "id": "8a831a38779a970f",
   "execution_count": 4
  },
  {
   "cell_type": "code",
   "outputs": [
    {
     "name": "stdout",
     "output_type": "stream",
     "text": [
      "\n",
      "---TRAINING SET---\n",
      "Found 1175 files belonging to 7 classes.\n",
      "0 - Neutral   :      167 images\n",
      "1 - Happy     :      168 images\n",
      "2 - Sad       :      168 images\n",
      "3 - Surprise  :      168 images\n",
      "4 - Fear      :      168 images\n",
      "5 - Disgust   :      168 images\n",
      "6 - Anger     :      168 images\n",
      "\n",
      "---VALIDATION SET---\n",
      "Found 391 files belonging to 7 classes.\n",
      "0 - Neutral   :       56 images\n",
      "1 - Happy     :       56 images\n",
      "2 - Sad       :       56 images\n",
      "3 - Surprise  :       55 images\n",
      "4 - Fear      :       56 images\n",
      "5 - Disgust   :       56 images\n",
      "6 - Anger     :       56 images\n",
      "\n",
      "---TEST SET---\n",
      "Found 392 files belonging to 7 classes.\n",
      "0 - Neutral   :       56 images\n",
      "1 - Happy     :       56 images\n",
      "2 - Sad       :       56 images\n",
      "3 - Surprise  :       56 images\n",
      "4 - Fear      :       56 images\n",
      "5 - Disgust   :       56 images\n",
      "6 - Anger     :       56 images\n"
     ]
    },
    {
     "data": {
      "text/plain": "{0: 56, 1: 56, 2: 56, 3: 56, 4: 56, 5: 56, 6: 56}"
     },
     "execution_count": 5,
     "metadata": {},
     "output_type": "execute_result"
    }
   ],
   "source": [
    "from tensorflow import keras\n",
    "\n",
    "print('\\n---TRAINING SET---')\n",
    "training_set = keras.preprocessing.image_dataset_from_directory(training_set_path,\n",
    "                                                                batch_size=BATCH_SIZE,\n",
    "                                                                image_size=IMAGE_SIZE,\n",
    "                                                                shuffle=False)\n",
    "compute_class_frequencies(training_set_path)\n",
    "\n",
    "print('\\n---VALIDATION SET---')\n",
    "validation_set = keras.preprocessing.image_dataset_from_directory(validation_set_path,\n",
    "                                                                  batch_size=BATCH_SIZE,\n",
    "                                                                  image_size=IMAGE_SIZE,\n",
    "                                                                  shuffle=False)\n",
    "compute_class_frequencies(validation_set_path)\n",
    "\n",
    "print('\\n---TEST SET---')\n",
    "test_set = keras.preprocessing.image_dataset_from_directory(test_set_path,\n",
    "                                                            batch_size=BATCH_SIZE,\n",
    "                                                            image_size=IMAGE_SIZE,\n",
    "                                                            shuffle=False)\n",
    "compute_class_frequencies(test_set_path)\n"
   ],
   "metadata": {
    "collapsed": false,
    "ExecuteTime": {
     "end_time": "2024-03-20T13:18:14.974014874Z",
     "start_time": "2024-03-20T13:18:14.882835293Z"
    }
   },
   "id": "1d3d1c2b782dbedd",
   "execution_count": 5
  },
  {
   "cell_type": "code",
   "outputs": [
    {
     "name": "stderr",
     "output_type": "stream",
     "text": [
      "2024-03-20 14:18:16.570395: I external/local_tsl/tsl/platform/default/subprocess.cc:304] Start cannot spawn child process: No such file or directory\n",
      "2024-03-20 14:18:16.778143: I external/local_xla/xla/stream_executor/cuda/cuda_dnn.cc:454] Loaded cuDNN version 8904\n",
      "2024-03-20 14:18:16.820236: I external/local_tsl/tsl/platform/default/subprocess.cc:304] Start cannot spawn child process: No such file or directory\n"
     ]
    },
    {
     "name": "stdout",
     "output_type": "stream",
     "text": [
      "37/37 [==============================] - 3s 29ms/step - loss: 1.3254 - accuracy: 0.5268\n",
      "TRAINING accuracy: 0.526808500289917\n"
     ]
    }
   ],
   "source": [
    "train_loss, train_acc = model.evaluate(training_set)\n",
    "print(f\"TRAINING accuracy: {train_acc}\")"
   ],
   "metadata": {
    "collapsed": false,
    "ExecuteTime": {
     "end_time": "2024-03-20T13:18:18.289683046Z",
     "start_time": "2024-03-20T13:18:14.971461268Z"
    }
   },
   "id": "ba5b76a92c8f6bc7",
   "execution_count": 6
  },
  {
   "cell_type": "code",
   "outputs": [
    {
     "name": "stdout",
     "output_type": "stream",
     "text": [
      "13/13 [==============================] - 0s 27ms/step - loss: 1.1710 - accuracy: 0.5908\n",
      "VALIDATION accuracy: 0.5907928347587585\n"
     ]
    }
   ],
   "source": [
    "val_loss, val_acc = model.evaluate(validation_set)\n",
    "print(f\"VALIDATION accuracy: {val_acc}\")"
   ],
   "metadata": {
    "collapsed": false,
    "ExecuteTime": {
     "end_time": "2024-03-20T13:18:18.671867770Z",
     "start_time": "2024-03-20T13:18:18.290078848Z"
    }
   },
   "id": "f47d9cca030cabb9",
   "execution_count": 7
  },
  {
   "cell_type": "code",
   "outputs": [
    {
     "name": "stdout",
     "output_type": "stream",
     "text": [
      "13/13 [==============================] - 0s 26ms/step - loss: 1.2129 - accuracy: 0.5816\n",
      "TEST accuracy: 0.581632673740387\n"
     ]
    }
   ],
   "source": [
    "test_loss, test_acc = model.evaluate(test_set)\n",
    "print(f\"TEST accuracy: {test_acc}\")"
   ],
   "metadata": {
    "collapsed": false,
    "ExecuteTime": {
     "end_time": "2024-03-20T13:18:19.030616401Z",
     "start_time": "2024-03-20T13:18:18.671834535Z"
    }
   },
   "id": "1883a550bc096ee9",
   "execution_count": 8
  },
  {
   "cell_type": "code",
   "outputs": [],
   "source": [
    "combined_set = training_set.concatenate(validation_set).concatenate(test_set)"
   ],
   "metadata": {
    "collapsed": false,
    "ExecuteTime": {
     "end_time": "2024-03-20T13:18:19.034728510Z",
     "start_time": "2024-03-20T13:18:19.030743132Z"
    }
   },
   "id": "3e1e32b434d483d0",
   "execution_count": 9
  },
  {
   "cell_type": "code",
   "outputs": [
    {
     "name": "stdout",
     "output_type": "stream",
     "text": [
      "63/63 [==============================] - 1s 23ms/step - loss: 1.2721 - accuracy: 0.5506\n",
      "TOTAL accuracy: 0.550561785697937\n"
     ]
    }
   ],
   "source": [
    "total_loss, total_acc = model.evaluate(combined_set)\n",
    "print(f\"TOTAL accuracy: {total_acc}\")"
   ],
   "metadata": {
    "collapsed": false,
    "ExecuteTime": {
     "end_time": "2024-03-20T13:18:20.501803679Z",
     "start_time": "2024-03-20T13:18:19.034808174Z"
    }
   },
   "id": "7cd3ab21268318cd",
   "execution_count": 10
  },
  {
   "cell_type": "code",
   "outputs": [
    {
     "name": "stdout",
     "output_type": "stream",
     "text": [
      "63/63 [==============================] - 2s 22ms/step\n",
      "              precision    recall  f1-score   support\n",
      "\n",
      "     Neutral     0.3354    0.9857    0.5005       279\n",
      "       Happy     0.9215    0.9643    0.9424       280\n",
      "         Sad     0.5930    0.3643    0.4513       280\n",
      "    Surprise     0.6006    0.7706    0.6750       279\n",
      "        Fear     0.6061    0.0714    0.1278       280\n",
      "     Disgust     0.7407    0.6429    0.6883       280\n",
      "       Anger     0.4103    0.0571    0.1003       280\n",
      "\n",
      "    accuracy                         0.5506      1958\n",
      "   macro avg     0.6011    0.5509    0.4980      1958\n",
      "weighted avg     0.6012    0.5506    0.4979      1958\n"
     ]
    }
   ],
   "source": [
    "import numpy as np\n",
    "from sklearn.metrics import classification_report\n",
    "\n",
    "y_pred_vectors = model.predict(combined_set)\n",
    "y_pred = np.argmax(y_pred_vectors, axis=1)\n",
    "y_true = np.concatenate([y for _, y in combined_set], axis=0)\n",
    "\n",
    "report = classification_report(y_true, y_pred, target_names=id_to_emotion.values(), digits=4)\n",
    "print(report)"
   ],
   "metadata": {
    "collapsed": false,
    "ExecuteTime": {
     "end_time": "2024-03-20T13:18:22.979109593Z",
     "start_time": "2024-03-20T13:18:20.499476861Z"
    }
   },
   "id": "914b692b48639591",
   "execution_count": 11
  },
  {
   "cell_type": "code",
   "outputs": [
    {
     "name": "stdout",
     "output_type": "stream",
     "text": [
      "[[275   0   4   0   0   0   0]\n",
      " [  7 270   0   0   0   3   0]\n",
      " [154   2 102   2   0  10  10]\n",
      " [ 62   1   0 215   1   0   0]\n",
      " [113  11   8  93  20  34   1]\n",
      " [ 37   5  30   8   8 180  12]\n",
      " [172   4  28  40   4  16  16]]\n"
     ]
    },
    {
     "data": {
      "text/plain": "<Figure size 1000x800 with 2 Axes>",
      "image/png": "[encoded data removed]"
     },
     "metadata": {},
     "output_type": "display_data"
    }
   ],
   "source": [
    "from sklearn.metrics import confusion_matrix\n",
    "import matplotlib.pyplot as plt\n",
    "import seaborn as sns\n",
    "\n",
    "\n",
    "def plot_confusion_matrix(y_true, y_pred):\n",
    "    class_names = id_to_emotion.values()\n",
    "\n",
    "    cm = confusion_matrix(y_true, y_pred)\n",
    "    print(cm)\n",
    "\n",
    "    fig = plt.figure(figsize=(10, 8))\n",
    "    sns.heatmap(cm, annot=True, fmt='d', cmap='Blues', xticklabels=class_names, yticklabels=class_names)\n",
    "    plt.title('Confusion Matrix')\n",
    "    plt.xlabel('Predicted Class')\n",
    "    plt.ylabel('Actual Class')\n",
    "    plt.tight_layout()\n",
    "    plt.show()\n",
    "\n",
    "    return fig\n",
    "\n",
    "\n",
    "cm_figure = plot_confusion_matrix(y_true, y_pred)\n"
   ],
   "metadata": {
    "collapsed": false,
    "ExecuteTime": {
     "end_time": "2024-03-20T13:18:23.124045405Z",
     "start_time": "2024-03-20T13:18:22.977684676Z"
    }
   },
   "id": "176b9ffbadf9bda2",
   "execution_count": 12
  },
  {
   "cell_type": "code",
   "outputs": [],
   "source": [
    "result_dir = Path('cross_validation_affectnet_kdef_occluded')\n",
    "result_dir.mkdir(exist_ok=True)\n",
    "\n",
    "\n",
    "def save_evaluation_results(report, cm_figure, checkpoint_dir):\n",
    "    with (checkpoint_dir / 'classification_report.txt').open(mode='w') as f:\n",
    "        f.write(report)\n",
    "    cm_figure.savefig(str(checkpoint_dir / 'confusion_matrix.png'))\n",
    "\n",
    "\n",
    "save_evaluation_results(report, cm_figure, result_dir)"
   ],
   "metadata": {
    "collapsed": false,
    "ExecuteTime": {
     "end_time": "2024-03-20T13:18:23.194007713Z",
     "start_time": "2024-03-20T13:18:23.124540816Z"
    }
   },
   "id": "f7604a9a8f50f9b2",
   "execution_count": 13
  },
  {
   "cell_type": "code",
   "outputs": [
    {
     "data": {
      "text/plain": "PosixPath('cross_validation_affectnet_kdef_occluded/kdef_occluded_cross_affectnet.ipynb')"
     },
     "execution_count": 15,
     "metadata": {},
     "output_type": "execute_result"
    }
   ],
   "source": [
    "import shutil\n",
    "\n",
    "path_to_this_notebook = Path(\n",
    "    '/home/thor/Desktop/repos/emoji-hero-baseline/kdef_occluded_cross_affectnet.ipynb')\n",
    "\n",
    "shutil.copy2(path_to_this_notebook, (result_dir / path_to_this_notebook.name))"
   ],
   "metadata": {
    "collapsed": false,
    "ExecuteTime": {
     "end_time": "2024-03-20T13:20:46.795863264Z",
     "start_time": "2024-03-20T13:20:46.752798646Z"
    }
   },
   "id": "1b84095413e45954",
   "execution_count": 15
  }
 ],
 "metadata": {
  "kernelspec": {
   "display_name": "Python 3",
   "language": "python",
   "name": "python3"
  },
  "language_info": {
   "codemirror_mode": {
    "name": "ipython",
    "version": 2
   },
   "file_extension": ".py",
   "mimetype": "text/x-python",
   "name": "python",
   "nbconvert_exporter": "python",
   "pygments_lexer": "ipython2",
   "version": "2.7.6"
  }
 },
 "nbformat": 4,
 "nbformat_minor": 5
}
