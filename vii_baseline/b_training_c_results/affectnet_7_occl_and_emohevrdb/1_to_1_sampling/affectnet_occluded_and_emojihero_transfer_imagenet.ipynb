{
 "cells": [
  {
   "cell_type": "code",
   "outputs": [],
   "source": [
    "from pathlib import Path\n",
    "\n",
    "affectnet_occluded_path = Path(r'/home/thor/Desktop/datasets/affectnet/affectnet7-occluded-for-balanced-sampling')\n",
    "affectnet_training_set_path = affectnet_occluded_path / 'training_set'\n",
    "affectnet_training_set_path_neutral = affectnet_training_set_path / '0'\n",
    "affectnet_training_set_path_happy = affectnet_training_set_path / '1'\n",
    "affectnet_training_set_path_sad = affectnet_training_set_path / '2'\n",
    "affectnet_training_set_path_surprise = affectnet_training_set_path / '3'\n",
    "affectnet_training_set_path_fear = affectnet_training_set_path / '4'\n",
    "affectnet_training_set_path_disgust = affectnet_training_set_path / '5'\n",
    "affectnet_training_set_path_anger = affectnet_training_set_path / '6'\n",
    "\n",
    "affectnet_validation_set_path = affectnet_occluded_path / 'validation_set'\n",
    "affectnet_test_set_path = affectnet_occluded_path / 'test_set'\n",
    "\n",
    "emojihero_path = Path(r'/home/thor/Desktop/datasets/emoji-hero')\n",
    "emojihero_training_set_path = emojihero_path / 'training_set'\n",
    "emojihero_validation_set_path = emojihero_path / 'validation_set'\n",
    "emojihero_test_set_path = emojihero_path / 'test_set'\n",
    "\n",
    "id_to_emotion = {\n",
    "    0: 'Neutral',\n",
    "    1: 'Happy',\n",
    "    2: 'Sad',\n",
    "    3: 'Surprise',\n",
    "    4: 'Fear',\n",
    "    5: 'Disgust',\n",
    "    6: 'Anger',\n",
    "}\n"
   ],
   "metadata": {
    "collapsed": true,
    "ExecuteTime": {
     "end_time": "2024-03-21T08:19:51.978564284Z",
     "start_time": "2024-03-21T08:19:51.913086584Z"
    }
   },
   "id": "initial_id",
   "execution_count": 1
  },
  {
   "cell_type": "code",
   "outputs": [],
   "source": [
    "BATCH_SIZE = 32\n",
    "IMAGE_SIZE = (224, 224)\n",
    "SEED = 42"
   ],
   "metadata": {
    "collapsed": false,
    "ExecuteTime": {
     "end_time": "2024-03-21T08:19:51.979155161Z",
     "start_time": "2024-03-21T08:19:51.973335775Z"
    }
   },
   "id": "8a831a38779a970f",
   "execution_count": 2
  },
  {
   "cell_type": "code",
   "outputs": [],
   "source": [
    "def compute_class_frequencies(dataset_path: Path) -> dict:\n",
    "    class_frequencies = {}\n",
    "    for class_dir in sorted(dataset_path.iterdir()):\n",
    "        num_files = sum(1 for _ in class_dir.iterdir())\n",
    "        class_id = int(class_dir.name)\n",
    "        class_frequencies[class_id] = num_files\n",
    "        print(f'{class_id} - {id_to_emotion[class_id]:<9} : {num_files:>8} images')\n",
    "\n",
    "    return class_frequencies\n"
   ],
   "metadata": {
    "collapsed": false,
    "ExecuteTime": {
     "end_time": "2024-03-21T08:19:51.989835870Z",
     "start_time": "2024-03-21T08:19:51.981225391Z"
    }
   },
   "id": "c17e1fe8c4f3bc49",
   "execution_count": 3
  },
  {
   "cell_type": "code",
   "outputs": [
    {
     "name": "stderr",
     "output_type": "stream",
     "text": [
      "2024-03-21 09:19:52.150500: I tensorflow/core/util/port.cc:113] oneDNN custom operations are on. You may see slightly different numerical results due to floating-point round-off errors from different computation orders. To turn them off, set the environment variable `TF_ENABLE_ONEDNN_OPTS=0`.\n",
      "2024-03-21 09:19:52.174699: E external/local_xla/xla/stream_executor/cuda/cuda_dnn.cc:9261] Unable to register cuDNN factory: Attempting to register factory for plugin cuDNN when one has already been registered\n",
      "2024-03-21 09:19:52.174718: E external/local_xla/xla/stream_executor/cuda/cuda_fft.cc:607] Unable to register cuFFT factory: Attempting to register factory for plugin cuFFT when one has already been registered\n",
      "2024-03-21 09:19:52.175244: E external/local_xla/xla/stream_executor/cuda/cuda_blas.cc:1515] Unable to register cuBLAS factory: Attempting to register factory for plugin cuBLAS when one has already been registered\n",
      "2024-03-21 09:19:52.178669: I tensorflow/core/platform/cpu_feature_guard.cc:182] This TensorFlow binary is optimized to use available CPU instructions in performance-critical operations.\n",
      "To enable the following instructions: AVX2 AVX_VNNI FMA, in other operations, rebuild TensorFlow with the appropriate compiler flags.\n",
      "2024-03-21 09:19:52.627413: W tensorflow/compiler/tf2tensorrt/utils/py_utils.cc:38] TF-TRT Warning: Could not find TensorRT\n"
     ]
    },
    {
     "name": "stdout",
     "output_type": "stream",
     "text": [
      "---EMOJI-HERO---\n",
      "---TRAINING SET---\n",
      "Found 2030 files belonging to 7 classes.\n"
     ]
    },
    {
     "name": "stderr",
     "output_type": "stream",
     "text": [
      "2024-03-21 09:19:53.033355: I external/local_xla/xla/stream_executor/cuda/cuda_executor.cc:901] successful NUMA node read from SysFS had negative value (-1), but there must be at least one NUMA node, so returning NUMA node zero. See more at https://github.com/torvalds/linux/blob/v6.0/Documentation/ABI/testing/sysfs-bus-pci#L344-L355\n",
      "2024-03-21 09:19:53.052484: I external/local_xla/xla/stream_executor/cuda/cuda_executor.cc:901] successful NUMA node read from SysFS had negative value (-1), but there must be at least one NUMA node, so returning NUMA node zero. See more at https://github.com/torvalds/linux/blob/v6.0/Documentation/ABI/testing/sysfs-bus-pci#L344-L355\n",
      "2024-03-21 09:19:53.052611: I external/local_xla/xla/stream_executor/cuda/cuda_executor.cc:901] successful NUMA node read from SysFS had negative value (-1), but there must be at least one NUMA node, so returning NUMA node zero. See more at https://github.com/torvalds/linux/blob/v6.0/Documentation/ABI/testing/sysfs-bus-pci#L344-L355\n",
      "2024-03-21 09:19:53.053465: I external/local_xla/xla/stream_executor/cuda/cuda_executor.cc:901] successful NUMA node read from SysFS had negative value (-1), but there must be at least one NUMA node, so returning NUMA node zero. See more at https://github.com/torvalds/linux/blob/v6.0/Documentation/ABI/testing/sysfs-bus-pci#L344-L355\n",
      "2024-03-21 09:19:53.053550: I external/local_xla/xla/stream_executor/cuda/cuda_executor.cc:901] successful NUMA node read from SysFS had negative value (-1), but there must be at least one NUMA node, so returning NUMA node zero. See more at https://github.com/torvalds/linux/blob/v6.0/Documentation/ABI/testing/sysfs-bus-pci#L344-L355\n",
      "2024-03-21 09:19:53.053596: I external/local_xla/xla/stream_executor/cuda/cuda_executor.cc:901] successful NUMA node read from SysFS had negative value (-1), but there must be at least one NUMA node, so returning NUMA node zero. See more at https://github.com/torvalds/linux/blob/v6.0/Documentation/ABI/testing/sysfs-bus-pci#L344-L355\n",
      "2024-03-21 09:19:53.100927: I external/local_xla/xla/stream_executor/cuda/cuda_executor.cc:901] successful NUMA node read from SysFS had negative value (-1), but there must be at least one NUMA node, so returning NUMA node zero. See more at https://github.com/torvalds/linux/blob/v6.0/Documentation/ABI/testing/sysfs-bus-pci#L344-L355\n",
      "2024-03-21 09:19:53.101037: I external/local_xla/xla/stream_executor/cuda/cuda_executor.cc:901] successful NUMA node read from SysFS had negative value (-1), but there must be at least one NUMA node, so returning NUMA node zero. See more at https://github.com/torvalds/linux/blob/v6.0/Documentation/ABI/testing/sysfs-bus-pci#L344-L355\n",
      "2024-03-21 09:19:53.101090: I external/local_xla/xla/stream_executor/cuda/cuda_executor.cc:901] successful NUMA node read from SysFS had negative value (-1), but there must be at least one NUMA node, so returning NUMA node zero. See more at https://github.com/torvalds/linux/blob/v6.0/Documentation/ABI/testing/sysfs-bus-pci#L344-L355\n",
      "2024-03-21 09:19:53.101132: I tensorflow/core/common_runtime/gpu/gpu_device.cc:1929] Created device /job:localhost/replica:0/task:0/device:GPU:0 with 21876 MB memory:  -> device: 0, name: NVIDIA GeForce RTX 3090, pci bus id: 0000:01:00.0, compute capability: 8.6\n",
      "2024-03-21 09:19:53.396745: I external/local_tsl/tsl/platform/default/subprocess.cc:304] Start cannot spawn child process: No such file or directory\n"
     ]
    },
    {
     "name": "stdout",
     "output_type": "stream",
     "text": [
      "0 - Neutral   :      414 images\n",
      "1 - Happy     :      400 images\n",
      "2 - Sad       :      274 images\n",
      "3 - Surprise  :      360 images\n",
      "4 - Fear      :      220 images\n",
      "5 - Disgust   :      212 images\n",
      "6 - Anger     :      150 images\n",
      "---VALIDATION SET---\n",
      "Found 770 files belonging to 7 classes.\n",
      "0 - Neutral   :      110 images\n",
      "1 - Happy     :      110 images\n",
      "2 - Sad       :      110 images\n",
      "3 - Surprise  :      110 images\n",
      "4 - Fear      :      110 images\n",
      "5 - Disgust   :      110 images\n",
      "6 - Anger     :      110 images\n"
     ]
    },
    {
     "data": {
      "text/plain": "{0: 110, 1: 110, 2: 110, 3: 110, 4: 110, 5: 110, 6: 110}"
     },
     "execution_count": 4,
     "metadata": {},
     "output_type": "execute_result"
    }
   ],
   "source": [
    "import keras\n",
    "\n",
    "print('---EMOJI-HERO---')\n",
    "print('---TRAINING SET---')\n",
    "emojihero_training_set = keras.preprocessing.image_dataset_from_directory(emojihero_training_set_path,\n",
    "                                                                          batch_size=BATCH_SIZE,\n",
    "                                                                          image_size=IMAGE_SIZE,\n",
    "                                                                          shuffle=True,\n",
    "                                                                          seed=SEED)\n",
    "\n",
    "class_frequencies = compute_class_frequencies(emojihero_training_set_path)\n",
    "\n",
    "print('---VALIDATION SET---')\n",
    "emojihero_validation_set = keras.preprocessing.image_dataset_from_directory(emojihero_validation_set_path,\n",
    "                                                                            batch_size=BATCH_SIZE,\n",
    "                                                                            image_size=IMAGE_SIZE,\n",
    "                                                                            shuffle=True,\n",
    "                                                                            seed=SEED)\n",
    "\n",
    "compute_class_frequencies(emojihero_validation_set_path)"
   ],
   "metadata": {
    "collapsed": false,
    "ExecuteTime": {
     "end_time": "2024-03-21T08:19:53.849875372Z",
     "start_time": "2024-03-21T08:19:51.990061997Z"
    }
   },
   "id": "73ba046bf9fdc4a6",
   "execution_count": 4
  },
  {
   "cell_type": "code",
   "outputs": [
    {
     "name": "stdout",
     "output_type": "stream",
     "text": [
      "{0: 0.08856927366991273, 1: 0.09166919824835967, 2: 0.13382364707789735, 3: 0.10185466472039963, 4: 0.1666712695424721, 5: 0.1729607514119994, 6: 0.2444511953289591}\n"
     ]
    }
   ],
   "source": [
    "total_num_samples = sum(class_frequencies.values())\n",
    "inverse_class_frequencies = {class_id: 1 / (frequency / total_num_samples) for class_id, frequency in\n",
    "                             class_frequencies.items()}\n",
    "\n",
    "total_inverse_class_frequencies = sum(inverse_class_frequencies.values())\n",
    "class_weights = {class_id: freq / total_inverse_class_frequencies for class_id, freq in\n",
    "                 inverse_class_frequencies.items()}\n",
    "\n",
    "print(class_weights)"
   ],
   "metadata": {
    "collapsed": false,
    "ExecuteTime": {
     "end_time": "2024-03-21T08:19:53.852769450Z",
     "start_time": "2024-03-21T08:19:53.850849752Z"
    }
   },
   "id": "8d34ab2c208175cd",
   "execution_count": 5
  },
  {
   "cell_type": "code",
   "outputs": [
    {
     "name": "stdout",
     "output_type": "stream",
     "text": [
      "---AFFECTNET-occl---\n",
      "Found 74494 files belonging to 7 classes.\n",
      "Found 134035 files belonging to 7 classes.\n",
      "Found 25079 files belonging to 7 classes.\n",
      "Found 13710 files belonging to 7 classes.\n",
      "Found 5998 files belonging to 7 classes.\n",
      "Found 3423 files belonging to 7 classes.\n",
      "Found 24502 files belonging to 7 classes.\n",
      "[0.20394088669950738, 0.19704433497536947, 0.13497536945812807, 0.17733990147783252, 0.10837438423645321, 0.10443349753694581, 0.07389162561576355]\n"
     ]
    }
   ],
   "source": [
    "from tensorflow.data import Dataset\n",
    "\n",
    "print('---AFFECTNET-occl---')\n",
    "\n",
    "neutral_set = keras.preprocessing.image_dataset_from_directory(affectnet_training_set_path_neutral,\n",
    "                                                               batch_size=BATCH_SIZE,\n",
    "                                                               image_size=IMAGE_SIZE,\n",
    "                                                               shuffle=True,\n",
    "                                                               seed=SEED)\n",
    "happy_set = keras.preprocessing.image_dataset_from_directory(affectnet_training_set_path_happy,\n",
    "                                                             batch_size=BATCH_SIZE,\n",
    "                                                             image_size=IMAGE_SIZE,\n",
    "                                                             shuffle=True,\n",
    "                                                             seed=SEED)\n",
    "sad_set = keras.preprocessing.image_dataset_from_directory(affectnet_training_set_path_sad,\n",
    "                                                           batch_size=BATCH_SIZE,\n",
    "                                                           image_size=IMAGE_SIZE,\n",
    "                                                           shuffle=True,\n",
    "                                                           seed=SEED)\n",
    "surprise_set = keras.preprocessing.image_dataset_from_directory(affectnet_training_set_path_surprise,\n",
    "                                                                batch_size=BATCH_SIZE,\n",
    "                                                                image_size=IMAGE_SIZE,\n",
    "                                                                shuffle=True,\n",
    "                                                                seed=SEED)\n",
    "fear_set = keras.preprocessing.image_dataset_from_directory(affectnet_training_set_path_fear,\n",
    "                                                            batch_size=BATCH_SIZE,\n",
    "                                                            image_size=IMAGE_SIZE,\n",
    "                                                            shuffle=True,\n",
    "                                                            seed=SEED)\n",
    "disgust_set = keras.preprocessing.image_dataset_from_directory(affectnet_training_set_path_disgust,\n",
    "                                                               batch_size=BATCH_SIZE,\n",
    "                                                               image_size=IMAGE_SIZE,\n",
    "                                                               shuffle=True,\n",
    "                                                               seed=SEED)\n",
    "anger_set = keras.preprocessing.image_dataset_from_directory(affectnet_training_set_path_anger,\n",
    "                                                             batch_size=BATCH_SIZE,\n",
    "                                                             image_size=IMAGE_SIZE,\n",
    "                                                             shuffle=True,\n",
    "                                                             seed=SEED)\n",
    "\n",
    "sampling_weights = [num_samples / total_num_samples for class_id, num_samples in class_frequencies.items()]\n",
    "print(sampling_weights)\n",
    "\n",
    "balanced_affectnet_training_set = Dataset.sample_from_datasets(\n",
    "    [neutral_set, happy_set, sad_set, surprise_set, fear_set, disgust_set, anger_set],\n",
    "    weights=sampling_weights,\n",
    "    seed=SEED,\n",
    "    stop_on_empty_dataset=True,\n",
    "    rerandomize_each_iteration=True).repeat()"
   ],
   "metadata": {
    "collapsed": false,
    "ExecuteTime": {
     "end_time": "2024-03-21T08:19:56.301589265Z",
     "start_time": "2024-03-21T08:19:53.854050497Z"
    }
   },
   "id": "3279888f3d815e27",
   "execution_count": 6
  },
  {
   "cell_type": "code",
   "outputs": [],
   "source": [
    "from tensorflow.data import Dataset\n",
    "\n",
    "dataset_weights = [0.5, 0.5]\n",
    "combined_training_set = Dataset.sample_from_datasets(\n",
    "    [balanced_affectnet_training_set, emojihero_training_set],\n",
    "    weights=dataset_weights,\n",
    "    seed=SEED,\n",
    "    stop_on_empty_dataset=True,\n",
    "    rerandomize_each_iteration=True).repeat()"
   ],
   "metadata": {
    "collapsed": false,
    "ExecuteTime": {
     "end_time": "2024-03-21T08:19:56.345434194Z",
     "start_time": "2024-03-21T08:19:56.303104621Z"
    }
   },
   "id": "cc5e6365fee9ca1d",
   "execution_count": 7
  },
  {
   "cell_type": "code",
   "outputs": [],
   "source": [
    "# print('---AFFECTNET-occl---')\n",
    "# print('---VALIDATION SET---')\n",
    "# affectnet_validation_set = keras.preprocessing.image_dataset_from_directory(affectnet_validation_set_path,\n",
    "#                                                                             batch_size=BATCH_SIZE,\n",
    "#                                                                             image_size=IMAGE_SIZE,\n",
    "#                                                                             shuffle=True,\n",
    "#                                                                             seed=SEED)\n",
    "# \n",
    "# compute_class_frequencies(affectnet_validation_set_path)\n"
   ],
   "metadata": {
    "collapsed": false,
    "ExecuteTime": {
     "end_time": "2024-03-21T08:19:56.345989543Z",
     "start_time": "2024-03-21T08:19:56.345382602Z"
    }
   },
   "id": "ba1e70188f567064",
   "execution_count": 8
  },
  {
   "cell_type": "code",
   "outputs": [],
   "source": [
    "# combined_validation_set = Dataset.sample_from_datasets([affectnet_validation_set, emojihero_validation_set])"
   ],
   "metadata": {
    "collapsed": false,
    "ExecuteTime": {
     "end_time": "2024-03-21T08:19:56.347218755Z",
     "start_time": "2024-03-21T08:19:56.345468896Z"
    }
   },
   "id": "6aa4e67cf3a76aa7",
   "execution_count": 9
  },
  {
   "cell_type": "code",
   "outputs": [],
   "source": [
    "from keras import layers\n",
    "from keras.models import Sequential\n",
    "\n",
    "data_augmentation = Sequential([\n",
    "    layers.RandomFlip(mode=\"horizontal\"),\n",
    "    layers.RandomTranslation(height_factor=0.05, width_factor=0.05, fill_mode=\"constant\"),\n",
    "    layers.RandomRotation(0.1, fill_mode=\"constant\"),\n",
    "    layers.RandomZoom(0.1, fill_mode=\"constant\"),\n",
    "    layers.RandomContrast(0.1),\n",
    "    layers.RandomBrightness(0.1)\n",
    "])\n",
    "\n",
    "inputs = layers.Input(shape=(*IMAGE_SIZE, 3))\n",
    "x = data_augmentation(inputs)\n"
   ],
   "metadata": {
    "collapsed": false,
    "ExecuteTime": {
     "end_time": "2024-03-21T08:19:56.590416188Z",
     "start_time": "2024-03-21T08:19:56.345492455Z"
    }
   },
   "id": "e21dd4be959ef951",
   "execution_count": 10
  },
  {
   "cell_type": "code",
   "outputs": [
    {
     "name": "stdout",
     "output_type": "stream",
     "text": [
      "Model: \"EfficientNet\"\n",
      "__________________________________________________________________________________________________\n",
      " Layer (type)                Output Shape                 Param #   Connected to                  \n",
      "==================================================================================================\n",
      " input_1 (InputLayer)        [(None, 224, 224, 3)]        0         []                            \n",
      "                                                                                                  \n",
      " sequential (Sequential)     (None, 224, 224, 3)          0         ['input_1[0][0]']             \n",
      "                                                                                                  \n",
      " rescaling (Rescaling)       (None, 224, 224, 3)          0         ['sequential[0][0]']          \n",
      "                                                                                                  \n",
      " normalization (Normalizati  (None, 224, 224, 3)          7         ['rescaling[0][0]']           \n",
      " on)                                                                                              \n",
      "                                                                                                  \n",
      " rescaling_1 (Rescaling)     (None, 224, 224, 3)          0         ['normalization[0][0]']       \n",
      "                                                                                                  \n",
      " stem_conv_pad (ZeroPadding  (None, 225, 225, 3)          0         ['rescaling_1[0][0]']         \n",
      " 2D)                                                                                              \n",
      "                                                                                                  \n",
      " stem_conv (Conv2D)          (None, 112, 112, 32)         864       ['stem_conv_pad[0][0]']       \n",
      "                                                                                                  \n",
      " stem_bn (BatchNormalizatio  (None, 112, 112, 32)         128       ['stem_conv[0][0]']           \n",
      " n)                                                                                               \n",
      "                                                                                                  \n",
      " stem_activation (Activatio  (None, 112, 112, 32)         0         ['stem_bn[0][0]']             \n",
      " n)                                                                                               \n",
      "                                                                                                  \n",
      " block1a_dwconv (DepthwiseC  (None, 112, 112, 32)         288       ['stem_activation[0][0]']     \n",
      " onv2D)                                                                                           \n",
      "                                                                                                  \n",
      " block1a_bn (BatchNormaliza  (None, 112, 112, 32)         128       ['block1a_dwconv[0][0]']      \n",
      " tion)                                                                                            \n",
      "                                                                                                  \n",
      " block1a_activation (Activa  (None, 112, 112, 32)         0         ['block1a_bn[0][0]']          \n",
      " tion)                                                                                            \n",
      "                                                                                                  \n",
      " block1a_se_squeeze (Global  (None, 32)                   0         ['block1a_activation[0][0]']  \n",
      " AveragePooling2D)                                                                                \n",
      "                                                                                                  \n",
      " block1a_se_reshape (Reshap  (None, 1, 1, 32)             0         ['block1a_se_squeeze[0][0]']  \n",
      " e)                                                                                               \n",
      "                                                                                                  \n",
      " block1a_se_reduce (Conv2D)  (None, 1, 1, 8)              264       ['block1a_se_reshape[0][0]']  \n",
      "                                                                                                  \n",
      " block1a_se_expand (Conv2D)  (None, 1, 1, 32)             288       ['block1a_se_reduce[0][0]']   \n",
      "                                                                                                  \n",
      " block1a_se_excite (Multipl  (None, 112, 112, 32)         0         ['block1a_activation[0][0]',  \n",
      " y)                                                                  'block1a_se_expand[0][0]']   \n",
      "                                                                                                  \n",
      " block1a_project_conv (Conv  (None, 112, 112, 16)         512       ['block1a_se_excite[0][0]']   \n",
      " 2D)                                                                                              \n",
      "                                                                                                  \n",
      " block1a_project_bn (BatchN  (None, 112, 112, 16)         64        ['block1a_project_conv[0][0]']\n",
      " ormalization)                                                                                    \n",
      "                                                                                                  \n",
      " block2a_expand_conv (Conv2  (None, 112, 112, 96)         1536      ['block1a_project_bn[0][0]']  \n",
      " D)                                                                                               \n",
      "                                                                                                  \n",
      " block2a_expand_bn (BatchNo  (None, 112, 112, 96)         384       ['block2a_expand_conv[0][0]'] \n",
      " rmalization)                                                                                     \n",
      "                                                                                                  \n",
      " block2a_expand_activation   (None, 112, 112, 96)         0         ['block2a_expand_bn[0][0]']   \n",
      " (Activation)                                                                                     \n",
      "                                                                                                  \n",
      " block2a_dwconv_pad (ZeroPa  (None, 113, 113, 96)         0         ['block2a_expand_activation[0]\n",
      " dding2D)                                                           [0]']                         \n",
      "                                                                                                  \n",
      " block2a_dwconv (DepthwiseC  (None, 56, 56, 96)           864       ['block2a_dwconv_pad[0][0]']  \n",
      " onv2D)                                                                                           \n",
      "                                                                                                  \n",
      " block2a_bn (BatchNormaliza  (None, 56, 56, 96)           384       ['block2a_dwconv[0][0]']      \n",
      " tion)                                                                                            \n",
      "                                                                                                  \n",
      " block2a_activation (Activa  (None, 56, 56, 96)           0         ['block2a_bn[0][0]']          \n",
      " tion)                                                                                            \n",
      "                                                                                                  \n",
      " block2a_se_squeeze (Global  (None, 96)                   0         ['block2a_activation[0][0]']  \n",
      " AveragePooling2D)                                                                                \n",
      "                                                                                                  \n",
      " block2a_se_reshape (Reshap  (None, 1, 1, 96)             0         ['block2a_se_squeeze[0][0]']  \n",
      " e)                                                                                               \n",
      "                                                                                                  \n",
      " block2a_se_reduce (Conv2D)  (None, 1, 1, 4)              388       ['block2a_se_reshape[0][0]']  \n",
      "                                                                                                  \n",
      " block2a_se_expand (Conv2D)  (None, 1, 1, 96)             480       ['block2a_se_reduce[0][0]']   \n",
      "                                                                                                  \n",
      " block2a_se_excite (Multipl  (None, 56, 56, 96)           0         ['block2a_activation[0][0]',  \n",
      " y)                                                                  'block2a_se_expand[0][0]']   \n",
      "                                                                                                  \n",
      " block2a_project_conv (Conv  (None, 56, 56, 24)           2304      ['block2a_se_excite[0][0]']   \n",
      " 2D)                                                                                              \n",
      "                                                                                                  \n",
      " block2a_project_bn (BatchN  (None, 56, 56, 24)           96        ['block2a_project_conv[0][0]']\n",
      " ormalization)                                                                                    \n",
      "                                                                                                  \n",
      " block2b_expand_conv (Conv2  (None, 56, 56, 144)          3456      ['block2a_project_bn[0][0]']  \n",
      " D)                                                                                               \n",
      "                                                                                                  \n",
      " block2b_expand_bn (BatchNo  (None, 56, 56, 144)          576       ['block2b_expand_conv[0][0]'] \n",
      " rmalization)                                                                                     \n",
      "                                                                                                  \n",
      " block2b_expand_activation   (None, 56, 56, 144)          0         ['block2b_expand_bn[0][0]']   \n",
      " (Activation)                                                                                     \n",
      "                                                                                                  \n",
      " block2b_dwconv (DepthwiseC  (None, 56, 56, 144)          1296      ['block2b_expand_activation[0]\n",
      " onv2D)                                                             [0]']                         \n",
      "                                                                                                  \n",
      " block2b_bn (BatchNormaliza  (None, 56, 56, 144)          576       ['block2b_dwconv[0][0]']      \n",
      " tion)                                                                                            \n",
      "                                                                                                  \n",
      " block2b_activation (Activa  (None, 56, 56, 144)          0         ['block2b_bn[0][0]']          \n",
      " tion)                                                                                            \n",
      "                                                                                                  \n",
      " block2b_se_squeeze (Global  (None, 144)                  0         ['block2b_activation[0][0]']  \n",
      " AveragePooling2D)                                                                                \n",
      "                                                                                                  \n",
      " block2b_se_reshape (Reshap  (None, 1, 1, 144)            0         ['block2b_se_squeeze[0][0]']  \n",
      " e)                                                                                               \n",
      "                                                                                                  \n",
      " block2b_se_reduce (Conv2D)  (None, 1, 1, 6)              870       ['block2b_se_reshape[0][0]']  \n",
      "                                                                                                  \n",
      " block2b_se_expand (Conv2D)  (None, 1, 1, 144)            1008      ['block2b_se_reduce[0][0]']   \n",
      "                                                                                                  \n",
      " block2b_se_excite (Multipl  (None, 56, 56, 144)          0         ['block2b_activation[0][0]',  \n",
      " y)                                                                  'block2b_se_expand[0][0]']   \n",
      "                                                                                                  \n",
      " block2b_project_conv (Conv  (None, 56, 56, 24)           3456      ['block2b_se_excite[0][0]']   \n",
      " 2D)                                                                                              \n",
      "                                                                                                  \n",
      " block2b_project_bn (BatchN  (None, 56, 56, 24)           96        ['block2b_project_conv[0][0]']\n",
      " ormalization)                                                                                    \n",
      "                                                                                                  \n",
      " block2b_drop (Dropout)      (None, 56, 56, 24)           0         ['block2b_project_bn[0][0]']  \n",
      "                                                                                                  \n",
      " block2b_add (Add)           (None, 56, 56, 24)           0         ['block2b_drop[0][0]',        \n",
      "                                                                     'block2a_project_bn[0][0]']  \n",
      "                                                                                                  \n",
      " block3a_expand_conv (Conv2  (None, 56, 56, 144)          3456      ['block2b_add[0][0]']         \n",
      " D)                                                                                               \n",
      "                                                                                                  \n",
      " block3a_expand_bn (BatchNo  (None, 56, 56, 144)          576       ['block3a_expand_conv[0][0]'] \n",
      " rmalization)                                                                                     \n",
      "                                                                                                  \n",
      " block3a_expand_activation   (None, 56, 56, 144)          0         ['block3a_expand_bn[0][0]']   \n",
      " (Activation)                                                                                     \n",
      "                                                                                                  \n",
      " block3a_dwconv_pad (ZeroPa  (None, 59, 59, 144)          0         ['block3a_expand_activation[0]\n",
      " dding2D)                                                           [0]']                         \n",
      "                                                                                                  \n",
      " block3a_dwconv (DepthwiseC  (None, 28, 28, 144)          3600      ['block3a_dwconv_pad[0][0]']  \n",
      " onv2D)                                                                                           \n",
      "                                                                                                  \n",
      " block3a_bn (BatchNormaliza  (None, 28, 28, 144)          576       ['block3a_dwconv[0][0]']      \n",
      " tion)                                                                                            \n",
      "                                                                                                  \n",
      " block3a_activation (Activa  (None, 28, 28, 144)          0         ['block3a_bn[0][0]']          \n",
      " tion)                                                                                            \n",
      "                                                                                                  \n",
      " block3a_se_squeeze (Global  (None, 144)                  0         ['block3a_activation[0][0]']  \n",
      " AveragePooling2D)                                                                                \n",
      "                                                                                                  \n",
      " block3a_se_reshape (Reshap  (None, 1, 1, 144)            0         ['block3a_se_squeeze[0][0]']  \n",
      " e)                                                                                               \n",
      "                                                                                                  \n",
      " block3a_se_reduce (Conv2D)  (None, 1, 1, 6)              870       ['block3a_se_reshape[0][0]']  \n",
      "                                                                                                  \n",
      " block3a_se_expand (Conv2D)  (None, 1, 1, 144)            1008      ['block3a_se_reduce[0][0]']   \n",
      "                                                                                                  \n",
      " block3a_se_excite (Multipl  (None, 28, 28, 144)          0         ['block3a_activation[0][0]',  \n",
      " y)                                                                  'block3a_se_expand[0][0]']   \n",
      "                                                                                                  \n",
      " block3a_project_conv (Conv  (None, 28, 28, 40)           5760      ['block3a_se_excite[0][0]']   \n",
      " 2D)                                                                                              \n",
      "                                                                                                  \n",
      " block3a_project_bn (BatchN  (None, 28, 28, 40)           160       ['block3a_project_conv[0][0]']\n",
      " ormalization)                                                                                    \n",
      "                                                                                                  \n",
      " block3b_expand_conv (Conv2  (None, 28, 28, 240)          9600      ['block3a_project_bn[0][0]']  \n",
      " D)                                                                                               \n",
      "                                                                                                  \n",
      " block3b_expand_bn (BatchNo  (None, 28, 28, 240)          960       ['block3b_expand_conv[0][0]'] \n",
      " rmalization)                                                                                     \n",
      "                                                                                                  \n",
      " block3b_expand_activation   (None, 28, 28, 240)          0         ['block3b_expand_bn[0][0]']   \n",
      " (Activation)                                                                                     \n",
      "                                                                                                  \n",
      " block3b_dwconv (DepthwiseC  (None, 28, 28, 240)          6000      ['block3b_expand_activation[0]\n",
      " onv2D)                                                             [0]']                         \n",
      "                                                                                                  \n",
      " block3b_bn (BatchNormaliza  (None, 28, 28, 240)          960       ['block3b_dwconv[0][0]']      \n",
      " tion)                                                                                            \n",
      "                                                                                                  \n",
      " block3b_activation (Activa  (None, 28, 28, 240)          0         ['block3b_bn[0][0]']          \n",
      " tion)                                                                                            \n",
      "                                                                                                  \n",
      " block3b_se_squeeze (Global  (None, 240)                  0         ['block3b_activation[0][0]']  \n",
      " AveragePooling2D)                                                                                \n",
      "                                                                                                  \n",
      " block3b_se_reshape (Reshap  (None, 1, 1, 240)            0         ['block3b_se_squeeze[0][0]']  \n",
      " e)                                                                                               \n",
      "                                                                                                  \n",
      " block3b_se_reduce (Conv2D)  (None, 1, 1, 10)             2410      ['block3b_se_reshape[0][0]']  \n",
      "                                                                                                  \n",
      " block3b_se_expand (Conv2D)  (None, 1, 1, 240)            2640      ['block3b_se_reduce[0][0]']   \n",
      "                                                                                                  \n",
      " block3b_se_excite (Multipl  (None, 28, 28, 240)          0         ['block3b_activation[0][0]',  \n",
      " y)                                                                  'block3b_se_expand[0][0]']   \n",
      "                                                                                                  \n",
      " block3b_project_conv (Conv  (None, 28, 28, 40)           9600      ['block3b_se_excite[0][0]']   \n",
      " 2D)                                                                                              \n",
      "                                                                                                  \n",
      " block3b_project_bn (BatchN  (None, 28, 28, 40)           160       ['block3b_project_conv[0][0]']\n",
      " ormalization)                                                                                    \n",
      "                                                                                                  \n",
      " block3b_drop (Dropout)      (None, 28, 28, 40)           0         ['block3b_project_bn[0][0]']  \n",
      "                                                                                                  \n",
      " block3b_add (Add)           (None, 28, 28, 40)           0         ['block3b_drop[0][0]',        \n",
      "                                                                     'block3a_project_bn[0][0]']  \n",
      "                                                                                                  \n",
      " block4a_expand_conv (Conv2  (None, 28, 28, 240)          9600      ['block3b_add[0][0]']         \n",
      " D)                                                                                               \n",
      "                                                                                                  \n",
      " block4a_expand_bn (BatchNo  (None, 28, 28, 240)          960       ['block4a_expand_conv[0][0]'] \n",
      " rmalization)                                                                                     \n",
      "                                                                                                  \n",
      " block4a_expand_activation   (None, 28, 28, 240)          0         ['block4a_expand_bn[0][0]']   \n",
      " (Activation)                                                                                     \n",
      "                                                                                                  \n",
      " block4a_dwconv_pad (ZeroPa  (None, 29, 29, 240)          0         ['block4a_expand_activation[0]\n",
      " dding2D)                                                           [0]']                         \n",
      "                                                                                                  \n",
      " block4a_dwconv (DepthwiseC  (None, 14, 14, 240)          2160      ['block4a_dwconv_pad[0][0]']  \n",
      " onv2D)                                                                                           \n",
      "                                                                                                  \n",
      " block4a_bn (BatchNormaliza  (None, 14, 14, 240)          960       ['block4a_dwconv[0][0]']      \n",
      " tion)                                                                                            \n",
      "                                                                                                  \n",
      " block4a_activation (Activa  (None, 14, 14, 240)          0         ['block4a_bn[0][0]']          \n",
      " tion)                                                                                            \n",
      "                                                                                                  \n",
      " block4a_se_squeeze (Global  (None, 240)                  0         ['block4a_activation[0][0]']  \n",
      " AveragePooling2D)                                                                                \n",
      "                                                                                                  \n",
      " block4a_se_reshape (Reshap  (None, 1, 1, 240)            0         ['block4a_se_squeeze[0][0]']  \n",
      " e)                                                                                               \n",
      "                                                                                                  \n",
      " block4a_se_reduce (Conv2D)  (None, 1, 1, 10)             2410      ['block4a_se_reshape[0][0]']  \n",
      "                                                                                                  \n",
      " block4a_se_expand (Conv2D)  (None, 1, 1, 240)            2640      ['block4a_se_reduce[0][0]']   \n",
      "                                                                                                  \n",
      " block4a_se_excite (Multipl  (None, 14, 14, 240)          0         ['block4a_activation[0][0]',  \n",
      " y)                                                                  'block4a_se_expand[0][0]']   \n",
      "                                                                                                  \n",
      " block4a_project_conv (Conv  (None, 14, 14, 80)           19200     ['block4a_se_excite[0][0]']   \n",
      " 2D)                                                                                              \n",
      "                                                                                                  \n",
      " block4a_project_bn (BatchN  (None, 14, 14, 80)           320       ['block4a_project_conv[0][0]']\n",
      " ormalization)                                                                                    \n",
      "                                                                                                  \n",
      " block4b_expand_conv (Conv2  (None, 14, 14, 480)          38400     ['block4a_project_bn[0][0]']  \n",
      " D)                                                                                               \n",
      "                                                                                                  \n",
      " block4b_expand_bn (BatchNo  (None, 14, 14, 480)          1920      ['block4b_expand_conv[0][0]'] \n",
      " rmalization)                                                                                     \n",
      "                                                                                                  \n",
      " block4b_expand_activation   (None, 14, 14, 480)          0         ['block4b_expand_bn[0][0]']   \n",
      " (Activation)                                                                                     \n",
      "                                                                                                  \n",
      " block4b_dwconv (DepthwiseC  (None, 14, 14, 480)          4320      ['block4b_expand_activation[0]\n",
      " onv2D)                                                             [0]']                         \n",
      "                                                                                                  \n",
      " block4b_bn (BatchNormaliza  (None, 14, 14, 480)          1920      ['block4b_dwconv[0][0]']      \n",
      " tion)                                                                                            \n",
      "                                                                                                  \n",
      " block4b_activation (Activa  (None, 14, 14, 480)          0         ['block4b_bn[0][0]']          \n",
      " tion)                                                                                            \n",
      "                                                                                                  \n",
      " block4b_se_squeeze (Global  (None, 480)                  0         ['block4b_activation[0][0]']  \n",
      " AveragePooling2D)                                                                                \n",
      "                                                                                                  \n",
      " block4b_se_reshape (Reshap  (None, 1, 1, 480)            0         ['block4b_se_squeeze[0][0]']  \n",
      " e)                                                                                               \n",
      "                                                                                                  \n",
      " block4b_se_reduce (Conv2D)  (None, 1, 1, 20)             9620      ['block4b_se_reshape[0][0]']  \n",
      "                                                                                                  \n",
      " block4b_se_expand (Conv2D)  (None, 1, 1, 480)            10080     ['block4b_se_reduce[0][0]']   \n",
      "                                                                                                  \n",
      " block4b_se_excite (Multipl  (None, 14, 14, 480)          0         ['block4b_activation[0][0]',  \n",
      " y)                                                                  'block4b_se_expand[0][0]']   \n",
      "                                                                                                  \n",
      " block4b_project_conv (Conv  (None, 14, 14, 80)           38400     ['block4b_se_excite[0][0]']   \n",
      " 2D)                                                                                              \n",
      "                                                                                                  \n",
      " block4b_project_bn (BatchN  (None, 14, 14, 80)           320       ['block4b_project_conv[0][0]']\n",
      " ormalization)                                                                                    \n",
      "                                                                                                  \n",
      " block4b_drop (Dropout)      (None, 14, 14, 80)           0         ['block4b_project_bn[0][0]']  \n",
      "                                                                                                  \n",
      " block4b_add (Add)           (None, 14, 14, 80)           0         ['block4b_drop[0][0]',        \n",
      "                                                                     'block4a_project_bn[0][0]']  \n",
      "                                                                                                  \n",
      " block4c_expand_conv (Conv2  (None, 14, 14, 480)          38400     ['block4b_add[0][0]']         \n",
      " D)                                                                                               \n",
      "                                                                                                  \n",
      " block4c_expand_bn (BatchNo  (None, 14, 14, 480)          1920      ['block4c_expand_conv[0][0]'] \n",
      " rmalization)                                                                                     \n",
      "                                                                                                  \n",
      " block4c_expand_activation   (None, 14, 14, 480)          0         ['block4c_expand_bn[0][0]']   \n",
      " (Activation)                                                                                     \n",
      "                                                                                                  \n",
      " block4c_dwconv (DepthwiseC  (None, 14, 14, 480)          4320      ['block4c_expand_activation[0]\n",
      " onv2D)                                                             [0]']                         \n",
      "                                                                                                  \n",
      " block4c_bn (BatchNormaliza  (None, 14, 14, 480)          1920      ['block4c_dwconv[0][0]']      \n",
      " tion)                                                                                            \n",
      "                                                                                                  \n",
      " block4c_activation (Activa  (None, 14, 14, 480)          0         ['block4c_bn[0][0]']          \n",
      " tion)                                                                                            \n",
      "                                                                                                  \n",
      " block4c_se_squeeze (Global  (None, 480)                  0         ['block4c_activation[0][0]']  \n",
      " AveragePooling2D)                                                                                \n",
      "                                                                                                  \n",
      " block4c_se_reshape (Reshap  (None, 1, 1, 480)            0         ['block4c_se_squeeze[0][0]']  \n",
      " e)                                                                                               \n",
      "                                                                                                  \n",
      " block4c_se_reduce (Conv2D)  (None, 1, 1, 20)             9620      ['block4c_se_reshape[0][0]']  \n",
      "                                                                                                  \n",
      " block4c_se_expand (Conv2D)  (None, 1, 1, 480)            10080     ['block4c_se_reduce[0][0]']   \n",
      "                                                                                                  \n",
      " block4c_se_excite (Multipl  (None, 14, 14, 480)          0         ['block4c_activation[0][0]',  \n",
      " y)                                                                  'block4c_se_expand[0][0]']   \n",
      "                                                                                                  \n",
      " block4c_project_conv (Conv  (None, 14, 14, 80)           38400     ['block4c_se_excite[0][0]']   \n",
      " 2D)                                                                                              \n",
      "                                                                                                  \n",
      " block4c_project_bn (BatchN  (None, 14, 14, 80)           320       ['block4c_project_conv[0][0]']\n",
      " ormalization)                                                                                    \n",
      "                                                                                                  \n",
      " block4c_drop (Dropout)      (None, 14, 14, 80)           0         ['block4c_project_bn[0][0]']  \n",
      "                                                                                                  \n",
      " block4c_add (Add)           (None, 14, 14, 80)           0         ['block4c_drop[0][0]',        \n",
      "                                                                     'block4b_add[0][0]']         \n",
      "                                                                                                  \n",
      " block5a_expand_conv (Conv2  (None, 14, 14, 480)          38400     ['block4c_add[0][0]']         \n",
      " D)                                                                                               \n",
      "                                                                                                  \n",
      " block5a_expand_bn (BatchNo  (None, 14, 14, 480)          1920      ['block5a_expand_conv[0][0]'] \n",
      " rmalization)                                                                                     \n",
      "                                                                                                  \n",
      " block5a_expand_activation   (None, 14, 14, 480)          0         ['block5a_expand_bn[0][0]']   \n",
      " (Activation)                                                                                     \n",
      "                                                                                                  \n",
      " block5a_dwconv (DepthwiseC  (None, 14, 14, 480)          12000     ['block5a_expand_activation[0]\n",
      " onv2D)                                                             [0]']                         \n",
      "                                                                                                  \n",
      " block5a_bn (BatchNormaliza  (None, 14, 14, 480)          1920      ['block5a_dwconv[0][0]']      \n",
      " tion)                                                                                            \n",
      "                                                                                                  \n",
      " block5a_activation (Activa  (None, 14, 14, 480)          0         ['block5a_bn[0][0]']          \n",
      " tion)                                                                                            \n",
      "                                                                                                  \n",
      " block5a_se_squeeze (Global  (None, 480)                  0         ['block5a_activation[0][0]']  \n",
      " AveragePooling2D)                                                                                \n",
      "                                                                                                  \n",
      " block5a_se_reshape (Reshap  (None, 1, 1, 480)            0         ['block5a_se_squeeze[0][0]']  \n",
      " e)                                                                                               \n",
      "                                                                                                  \n",
      " block5a_se_reduce (Conv2D)  (None, 1, 1, 20)             9620      ['block5a_se_reshape[0][0]']  \n",
      "                                                                                                  \n",
      " block5a_se_expand (Conv2D)  (None, 1, 1, 480)            10080     ['block5a_se_reduce[0][0]']   \n",
      "                                                                                                  \n",
      " block5a_se_excite (Multipl  (None, 14, 14, 480)          0         ['block5a_activation[0][0]',  \n",
      " y)                                                                  'block5a_se_expand[0][0]']   \n",
      "                                                                                                  \n",
      " block5a_project_conv (Conv  (None, 14, 14, 112)          53760     ['block5a_se_excite[0][0]']   \n",
      " 2D)                                                                                              \n",
      "                                                                                                  \n",
      " block5a_project_bn (BatchN  (None, 14, 14, 112)          448       ['block5a_project_conv[0][0]']\n",
      " ormalization)                                                                                    \n",
      "                                                                                                  \n",
      " block5b_expand_conv (Conv2  (None, 14, 14, 672)          75264     ['block5a_project_bn[0][0]']  \n",
      " D)                                                                                               \n",
      "                                                                                                  \n",
      " block5b_expand_bn (BatchNo  (None, 14, 14, 672)          2688      ['block5b_expand_conv[0][0]'] \n",
      " rmalization)                                                                                     \n",
      "                                                                                                  \n",
      " block5b_expand_activation   (None, 14, 14, 672)          0         ['block5b_expand_bn[0][0]']   \n",
      " (Activation)                                                                                     \n",
      "                                                                                                  \n",
      " block5b_dwconv (DepthwiseC  (None, 14, 14, 672)          16800     ['block5b_expand_activation[0]\n",
      " onv2D)                                                             [0]']                         \n",
      "                                                                                                  \n",
      " block5b_bn (BatchNormaliza  (None, 14, 14, 672)          2688      ['block5b_dwconv[0][0]']      \n",
      " tion)                                                                                            \n",
      "                                                                                                  \n",
      " block5b_activation (Activa  (None, 14, 14, 672)          0         ['block5b_bn[0][0]']          \n",
      " tion)                                                                                            \n",
      "                                                                                                  \n",
      " block5b_se_squeeze (Global  (None, 672)                  0         ['block5b_activation[0][0]']  \n",
      " AveragePooling2D)                                                                                \n",
      "                                                                                                  \n",
      " block5b_se_reshape (Reshap  (None, 1, 1, 672)            0         ['block5b_se_squeeze[0][0]']  \n",
      " e)                                                                                               \n",
      "                                                                                                  \n",
      " block5b_se_reduce (Conv2D)  (None, 1, 1, 28)             18844     ['block5b_se_reshape[0][0]']  \n",
      "                                                                                                  \n",
      " block5b_se_expand (Conv2D)  (None, 1, 1, 672)            19488     ['block5b_se_reduce[0][0]']   \n",
      "                                                                                                  \n",
      " block5b_se_excite (Multipl  (None, 14, 14, 672)          0         ['block5b_activation[0][0]',  \n",
      " y)                                                                  'block5b_se_expand[0][0]']   \n",
      "                                                                                                  \n",
      " block5b_project_conv (Conv  (None, 14, 14, 112)          75264     ['block5b_se_excite[0][0]']   \n",
      " 2D)                                                                                              \n",
      "                                                                                                  \n",
      " block5b_project_bn (BatchN  (None, 14, 14, 112)          448       ['block5b_project_conv[0][0]']\n",
      " ormalization)                                                                                    \n",
      "                                                                                                  \n",
      " block5b_drop (Dropout)      (None, 14, 14, 112)          0         ['block5b_project_bn[0][0]']  \n",
      "                                                                                                  \n",
      " block5b_add (Add)           (None, 14, 14, 112)          0         ['block5b_drop[0][0]',        \n",
      "                                                                     'block5a_project_bn[0][0]']  \n",
      "                                                                                                  \n",
      " block5c_expand_conv (Conv2  (None, 14, 14, 672)          75264     ['block5b_add[0][0]']         \n",
      " D)                                                                                               \n",
      "                                                                                                  \n",
      " block5c_expand_bn (BatchNo  (None, 14, 14, 672)          2688      ['block5c_expand_conv[0][0]'] \n",
      " rmalization)                                                                                     \n",
      "                                                                                                  \n",
      " block5c_expand_activation   (None, 14, 14, 672)          0         ['block5c_expand_bn[0][0]']   \n",
      " (Activation)                                                                                     \n",
      "                                                                                                  \n",
      " block5c_dwconv (DepthwiseC  (None, 14, 14, 672)          16800     ['block5c_expand_activation[0]\n",
      " onv2D)                                                             [0]']                         \n",
      "                                                                                                  \n",
      " block5c_bn (BatchNormaliza  (None, 14, 14, 672)          2688      ['block5c_dwconv[0][0]']      \n",
      " tion)                                                                                            \n",
      "                                                                                                  \n",
      " block5c_activation (Activa  (None, 14, 14, 672)          0         ['block5c_bn[0][0]']          \n",
      " tion)                                                                                            \n",
      "                                                                                                  \n",
      " block5c_se_squeeze (Global  (None, 672)                  0         ['block5c_activation[0][0]']  \n",
      " AveragePooling2D)                                                                                \n",
      "                                                                                                  \n",
      " block5c_se_reshape (Reshap  (None, 1, 1, 672)            0         ['block5c_se_squeeze[0][0]']  \n",
      " e)                                                                                               \n",
      "                                                                                                  \n",
      " block5c_se_reduce (Conv2D)  (None, 1, 1, 28)             18844     ['block5c_se_reshape[0][0]']  \n",
      "                                                                                                  \n",
      " block5c_se_expand (Conv2D)  (None, 1, 1, 672)            19488     ['block5c_se_reduce[0][0]']   \n",
      "                                                                                                  \n",
      " block5c_se_excite (Multipl  (None, 14, 14, 672)          0         ['block5c_activation[0][0]',  \n",
      " y)                                                                  'block5c_se_expand[0][0]']   \n",
      "                                                                                                  \n",
      " block5c_project_conv (Conv  (None, 14, 14, 112)          75264     ['block5c_se_excite[0][0]']   \n",
      " 2D)                                                                                              \n",
      "                                                                                                  \n",
      " block5c_project_bn (BatchN  (None, 14, 14, 112)          448       ['block5c_project_conv[0][0]']\n",
      " ormalization)                                                                                    \n",
      "                                                                                                  \n",
      " block5c_drop (Dropout)      (None, 14, 14, 112)          0         ['block5c_project_bn[0][0]']  \n",
      "                                                                                                  \n",
      " block5c_add (Add)           (None, 14, 14, 112)          0         ['block5c_drop[0][0]',        \n",
      "                                                                     'block5b_add[0][0]']         \n",
      "                                                                                                  \n",
      " block6a_expand_conv (Conv2  (None, 14, 14, 672)          75264     ['block5c_add[0][0]']         \n",
      " D)                                                                                               \n",
      "                                                                                                  \n",
      " block6a_expand_bn (BatchNo  (None, 14, 14, 672)          2688      ['block6a_expand_conv[0][0]'] \n",
      " rmalization)                                                                                     \n",
      "                                                                                                  \n",
      " block6a_expand_activation   (None, 14, 14, 672)          0         ['block6a_expand_bn[0][0]']   \n",
      " (Activation)                                                                                     \n",
      "                                                                                                  \n",
      " block6a_dwconv_pad (ZeroPa  (None, 17, 17, 672)          0         ['block6a_expand_activation[0]\n",
      " dding2D)                                                           [0]']                         \n",
      "                                                                                                  \n",
      " block6a_dwconv (DepthwiseC  (None, 7, 7, 672)            16800     ['block6a_dwconv_pad[0][0]']  \n",
      " onv2D)                                                                                           \n",
      "                                                                                                  \n",
      " block6a_bn (BatchNormaliza  (None, 7, 7, 672)            2688      ['block6a_dwconv[0][0]']      \n",
      " tion)                                                                                            \n",
      "                                                                                                  \n",
      " block6a_activation (Activa  (None, 7, 7, 672)            0         ['block6a_bn[0][0]']          \n",
      " tion)                                                                                            \n",
      "                                                                                                  \n",
      " block6a_se_squeeze (Global  (None, 672)                  0         ['block6a_activation[0][0]']  \n",
      " AveragePooling2D)                                                                                \n",
      "                                                                                                  \n",
      " block6a_se_reshape (Reshap  (None, 1, 1, 672)            0         ['block6a_se_squeeze[0][0]']  \n",
      " e)                                                                                               \n",
      "                                                                                                  \n",
      " block6a_se_reduce (Conv2D)  (None, 1, 1, 28)             18844     ['block6a_se_reshape[0][0]']  \n",
      "                                                                                                  \n",
      " block6a_se_expand (Conv2D)  (None, 1, 1, 672)            19488     ['block6a_se_reduce[0][0]']   \n",
      "                                                                                                  \n",
      " block6a_se_excite (Multipl  (None, 7, 7, 672)            0         ['block6a_activation[0][0]',  \n",
      " y)                                                                  'block6a_se_expand[0][0]']   \n",
      "                                                                                                  \n",
      " block6a_project_conv (Conv  (None, 7, 7, 192)            129024    ['block6a_se_excite[0][0]']   \n",
      " 2D)                                                                                              \n",
      "                                                                                                  \n",
      " block6a_project_bn (BatchN  (None, 7, 7, 192)            768       ['block6a_project_conv[0][0]']\n",
      " ormalization)                                                                                    \n",
      "                                                                                                  \n",
      " block6b_expand_conv (Conv2  (None, 7, 7, 1152)           221184    ['block6a_project_bn[0][0]']  \n",
      " D)                                                                                               \n",
      "                                                                                                  \n",
      " block6b_expand_bn (BatchNo  (None, 7, 7, 1152)           4608      ['block6b_expand_conv[0][0]'] \n",
      " rmalization)                                                                                     \n",
      "                                                                                                  \n",
      " block6b_expand_activation   (None, 7, 7, 1152)           0         ['block6b_expand_bn[0][0]']   \n",
      " (Activation)                                                                                     \n",
      "                                                                                                  \n",
      " block6b_dwconv (DepthwiseC  (None, 7, 7, 1152)           28800     ['block6b_expand_activation[0]\n",
      " onv2D)                                                             [0]']                         \n",
      "                                                                                                  \n",
      " block6b_bn (BatchNormaliza  (None, 7, 7, 1152)           4608      ['block6b_dwconv[0][0]']      \n",
      " tion)                                                                                            \n",
      "                                                                                                  \n",
      " block6b_activation (Activa  (None, 7, 7, 1152)           0         ['block6b_bn[0][0]']          \n",
      " tion)                                                                                            \n",
      "                                                                                                  \n",
      " block6b_se_squeeze (Global  (None, 1152)                 0         ['block6b_activation[0][0]']  \n",
      " AveragePooling2D)                                                                                \n",
      "                                                                                                  \n",
      " block6b_se_reshape (Reshap  (None, 1, 1, 1152)           0         ['block6b_se_squeeze[0][0]']  \n",
      " e)                                                                                               \n",
      "                                                                                                  \n",
      " block6b_se_reduce (Conv2D)  (None, 1, 1, 48)             55344     ['block6b_se_reshape[0][0]']  \n",
      "                                                                                                  \n",
      " block6b_se_expand (Conv2D)  (None, 1, 1, 1152)           56448     ['block6b_se_reduce[0][0]']   \n",
      "                                                                                                  \n",
      " block6b_se_excite (Multipl  (None, 7, 7, 1152)           0         ['block6b_activation[0][0]',  \n",
      " y)                                                                  'block6b_se_expand[0][0]']   \n",
      "                                                                                                  \n",
      " block6b_project_conv (Conv  (None, 7, 7, 192)            221184    ['block6b_se_excite[0][0]']   \n",
      " 2D)                                                                                              \n",
      "                                                                                                  \n",
      " block6b_project_bn (BatchN  (None, 7, 7, 192)            768       ['block6b_project_conv[0][0]']\n",
      " ormalization)                                                                                    \n",
      "                                                                                                  \n",
      " block6b_drop (Dropout)      (None, 7, 7, 192)            0         ['block6b_project_bn[0][0]']  \n",
      "                                                                                                  \n",
      " block6b_add (Add)           (None, 7, 7, 192)            0         ['block6b_drop[0][0]',        \n",
      "                                                                     'block6a_project_bn[0][0]']  \n",
      "                                                                                                  \n",
      " block6c_expand_conv (Conv2  (None, 7, 7, 1152)           221184    ['block6b_add[0][0]']         \n",
      " D)                                                                                               \n",
      "                                                                                                  \n",
      " block6c_expand_bn (BatchNo  (None, 7, 7, 1152)           4608      ['block6c_expand_conv[0][0]'] \n",
      " rmalization)                                                                                     \n",
      "                                                                                                  \n",
      " block6c_expand_activation   (None, 7, 7, 1152)           0         ['block6c_expand_bn[0][0]']   \n",
      " (Activation)                                                                                     \n",
      "                                                                                                  \n",
      " block6c_dwconv (DepthwiseC  (None, 7, 7, 1152)           28800     ['block6c_expand_activation[0]\n",
      " onv2D)                                                             [0]']                         \n",
      "                                                                                                  \n",
      " block6c_bn (BatchNormaliza  (None, 7, 7, 1152)           4608      ['block6c_dwconv[0][0]']      \n",
      " tion)                                                                                            \n",
      "                                                                                                  \n",
      " block6c_activation (Activa  (None, 7, 7, 1152)           0         ['block6c_bn[0][0]']          \n",
      " tion)                                                                                            \n",
      "                                                                                                  \n",
      " block6c_se_squeeze (Global  (None, 1152)                 0         ['block6c_activation[0][0]']  \n",
      " AveragePooling2D)                                                                                \n",
      "                                                                                                  \n",
      " block6c_se_reshape (Reshap  (None, 1, 1, 1152)           0         ['block6c_se_squeeze[0][0]']  \n",
      " e)                                                                                               \n",
      "                                                                                                  \n",
      " block6c_se_reduce (Conv2D)  (None, 1, 1, 48)             55344     ['block6c_se_reshape[0][0]']  \n",
      "                                                                                                  \n",
      " block6c_se_expand (Conv2D)  (None, 1, 1, 1152)           56448     ['block6c_se_reduce[0][0]']   \n",
      "                                                                                                  \n",
      " block6c_se_excite (Multipl  (None, 7, 7, 1152)           0         ['block6c_activation[0][0]',  \n",
      " y)                                                                  'block6c_se_expand[0][0]']   \n",
      "                                                                                                  \n",
      " block6c_project_conv (Conv  (None, 7, 7, 192)            221184    ['block6c_se_excite[0][0]']   \n",
      " 2D)                                                                                              \n",
      "                                                                                                  \n",
      " block6c_project_bn (BatchN  (None, 7, 7, 192)            768       ['block6c_project_conv[0][0]']\n",
      " ormalization)                                                                                    \n",
      "                                                                                                  \n",
      " block6c_drop (Dropout)      (None, 7, 7, 192)            0         ['block6c_project_bn[0][0]']  \n",
      "                                                                                                  \n",
      " block6c_add (Add)           (None, 7, 7, 192)            0         ['block6c_drop[0][0]',        \n",
      "                                                                     'block6b_add[0][0]']         \n",
      "                                                                                                  \n",
      " block6d_expand_conv (Conv2  (None, 7, 7, 1152)           221184    ['block6c_add[0][0]']         \n",
      " D)                                                                                               \n",
      "                                                                                                  \n",
      " block6d_expand_bn (BatchNo  (None, 7, 7, 1152)           4608      ['block6d_expand_conv[0][0]'] \n",
      " rmalization)                                                                                     \n",
      "                                                                                                  \n",
      " block6d_expand_activation   (None, 7, 7, 1152)           0         ['block6d_expand_bn[0][0]']   \n",
      " (Activation)                                                                                     \n",
      "                                                                                                  \n",
      " block6d_dwconv (DepthwiseC  (None, 7, 7, 1152)           28800     ['block6d_expand_activation[0]\n",
      " onv2D)                                                             [0]']                         \n",
      "                                                                                                  \n",
      " block6d_bn (BatchNormaliza  (None, 7, 7, 1152)           4608      ['block6d_dwconv[0][0]']      \n",
      " tion)                                                                                            \n",
      "                                                                                                  \n",
      " block6d_activation (Activa  (None, 7, 7, 1152)           0         ['block6d_bn[0][0]']          \n",
      " tion)                                                                                            \n",
      "                                                                                                  \n",
      " block6d_se_squeeze (Global  (None, 1152)                 0         ['block6d_activation[0][0]']  \n",
      " AveragePooling2D)                                                                                \n",
      "                                                                                                  \n",
      " block6d_se_reshape (Reshap  (None, 1, 1, 1152)           0         ['block6d_se_squeeze[0][0]']  \n",
      " e)                                                                                               \n",
      "                                                                                                  \n",
      " block6d_se_reduce (Conv2D)  (None, 1, 1, 48)             55344     ['block6d_se_reshape[0][0]']  \n",
      "                                                                                                  \n",
      " block6d_se_expand (Conv2D)  (None, 1, 1, 1152)           56448     ['block6d_se_reduce[0][0]']   \n",
      "                                                                                                  \n",
      " block6d_se_excite (Multipl  (None, 7, 7, 1152)           0         ['block6d_activation[0][0]',  \n",
      " y)                                                                  'block6d_se_expand[0][0]']   \n",
      "                                                                                                  \n",
      " block6d_project_conv (Conv  (None, 7, 7, 192)            221184    ['block6d_se_excite[0][0]']   \n",
      " 2D)                                                                                              \n",
      "                                                                                                  \n",
      " block6d_project_bn (BatchN  (None, 7, 7, 192)            768       ['block6d_project_conv[0][0]']\n",
      " ormalization)                                                                                    \n",
      "                                                                                                  \n",
      " block6d_drop (Dropout)      (None, 7, 7, 192)            0         ['block6d_project_bn[0][0]']  \n",
      "                                                                                                  \n",
      " block6d_add (Add)           (None, 7, 7, 192)            0         ['block6d_drop[0][0]',        \n",
      "                                                                     'block6c_add[0][0]']         \n",
      "                                                                                                  \n",
      " block7a_expand_conv (Conv2  (None, 7, 7, 1152)           221184    ['block6d_add[0][0]']         \n",
      " D)                                                                                               \n",
      "                                                                                                  \n",
      " block7a_expand_bn (BatchNo  (None, 7, 7, 1152)           4608      ['block7a_expand_conv[0][0]'] \n",
      " rmalization)                                                                                     \n",
      "                                                                                                  \n",
      " block7a_expand_activation   (None, 7, 7, 1152)           0         ['block7a_expand_bn[0][0]']   \n",
      " (Activation)                                                                                     \n",
      "                                                                                                  \n",
      " block7a_dwconv (DepthwiseC  (None, 7, 7, 1152)           10368     ['block7a_expand_activation[0]\n",
      " onv2D)                                                             [0]']                         \n",
      "                                                                                                  \n",
      " block7a_bn (BatchNormaliza  (None, 7, 7, 1152)           4608      ['block7a_dwconv[0][0]']      \n",
      " tion)                                                                                            \n",
      "                                                                                                  \n",
      " block7a_activation (Activa  (None, 7, 7, 1152)           0         ['block7a_bn[0][0]']          \n",
      " tion)                                                                                            \n",
      "                                                                                                  \n",
      " block7a_se_squeeze (Global  (None, 1152)                 0         ['block7a_activation[0][0]']  \n",
      " AveragePooling2D)                                                                                \n",
      "                                                                                                  \n",
      " block7a_se_reshape (Reshap  (None, 1, 1, 1152)           0         ['block7a_se_squeeze[0][0]']  \n",
      " e)                                                                                               \n",
      "                                                                                                  \n",
      " block7a_se_reduce (Conv2D)  (None, 1, 1, 48)             55344     ['block7a_se_reshape[0][0]']  \n",
      "                                                                                                  \n",
      " block7a_se_expand (Conv2D)  (None, 1, 1, 1152)           56448     ['block7a_se_reduce[0][0]']   \n",
      "                                                                                                  \n",
      " block7a_se_excite (Multipl  (None, 7, 7, 1152)           0         ['block7a_activation[0][0]',  \n",
      " y)                                                                  'block7a_se_expand[0][0]']   \n",
      "                                                                                                  \n",
      " block7a_project_conv (Conv  (None, 7, 7, 320)            368640    ['block7a_se_excite[0][0]']   \n",
      " 2D)                                                                                              \n",
      "                                                                                                  \n",
      " block7a_project_bn (BatchN  (None, 7, 7, 320)            1280      ['block7a_project_conv[0][0]']\n",
      " ormalization)                                                                                    \n",
      "                                                                                                  \n",
      " top_conv (Conv2D)           (None, 7, 7, 1280)           409600    ['block7a_project_bn[0][0]']  \n",
      "                                                                                                  \n",
      " top_bn (BatchNormalization  (None, 7, 7, 1280)           5120      ['top_conv[0][0]']            \n",
      " )                                                                                                \n",
      "                                                                                                  \n",
      " top_activation (Activation  (None, 7, 7, 1280)           0         ['top_bn[0][0]']              \n",
      " )                                                                                                \n",
      "                                                                                                  \n",
      " avg_pool (GlobalAveragePoo  (None, 1280)                 0         ['top_activation[0][0]']      \n",
      " ling2D)                                                                                          \n",
      "                                                                                                  \n",
      " top_dropout1 (Dropout)      (None, 1280)                 0         ['avg_pool[0][0]']            \n",
      "                                                                                                  \n",
      " pred (Dense)                (None, 7)                    8967      ['top_dropout1[0][0]']        \n",
      "                                                                                                  \n",
      "==================================================================================================\n",
      "Total params: 4058538 (15.48 MB)\n",
      "Trainable params: 4016515 (15.32 MB)\n",
      "Non-trainable params: 42023 (164.16 KB)\n",
      "__________________________________________________________________________________________________\n"
     ]
    }
   ],
   "source": [
    "from keras.src.applications import EfficientNetB0\n",
    "\n",
    "\n",
    "def build_model(num_classes, inputs_layer):\n",
    "    model = EfficientNetB0(include_top=False, input_tensor=inputs_layer, weights=\"imagenet\")\n",
    "\n",
    "    # Freeze the pretrained weights\n",
    "    # model.trainable = False\n",
    "\n",
    "    # Rebuild top\n",
    "    x = layers.GlobalAveragePooling2D(name=\"avg_pool\")(model.output)\n",
    "    x = layers.Dropout(0.2, name=\"top_dropout1\")(x)\n",
    "    outputs = layers.Dense(num_classes, activation=\"softmax\", name=\"pred\")(x)\n",
    "\n",
    "    # Compile\n",
    "    model = keras.Model(inputs, outputs, name=\"EfficientNet\")\n",
    "    return model\n",
    "\n",
    "\n",
    "model = build_model(len(class_frequencies), x)\n",
    "model.summary()"
   ],
   "metadata": {
    "collapsed": false,
    "ExecuteTime": {
     "end_time": "2024-03-21T08:19:58.041868256Z",
     "start_time": "2024-03-21T08:19:56.593339403Z"
    }
   },
   "id": "60a4613c6d3a33aa",
   "execution_count": 11
  },
  {
   "cell_type": "code",
   "outputs": [],
   "source": [
    "# from tensorflow.keras.models import load_model\n",
    "# \n",
    "# model = load_model(r'/home/thor/Desktop/repos/emoji-hero-baseline/affectnet_transfer_imagenet_checkpoints_20240310-2241/best_model_phase_4.keras')\n",
    "# \n",
    "# for layer in model.layers[:-167]:\n",
    "#     layer.trainable = False\n",
    "# \n",
    "# model.summary()"
   ],
   "metadata": {
    "collapsed": false,
    "ExecuteTime": {
     "end_time": "2024-03-21T08:19:58.044085874Z",
     "start_time": "2024-03-21T08:19:58.025399110Z"
    }
   },
   "id": "371e3a393ded4bd5",
   "execution_count": 12
  },
  {
   "cell_type": "code",
   "outputs": [],
   "source": [
    "# num_layers = len(model.layers)\n",
    "# for i, layer in enumerate(model.layers):\n",
    "#     print((num_layers - i), layer.name, layer.__class__.__name__)"
   ],
   "metadata": {
    "collapsed": false,
    "ExecuteTime": {
     "end_time": "2024-03-21T08:19:58.077516565Z",
     "start_time": "2024-03-21T08:19:58.025474001Z"
    }
   },
   "id": "ddddf15d88213583",
   "execution_count": 13
  },
  {
   "cell_type": "code",
   "outputs": [],
   "source": [
    "# def unfreeze_model(model, num_layers):\n",
    "#     for layer in model.layers[-num_layers:]:\n",
    "#         if not isinstance(layer, layers.BatchNormalization):\n",
    "#             layer.trainable = True"
   ],
   "metadata": {
    "collapsed": false,
    "ExecuteTime": {
     "end_time": "2024-03-21T08:19:58.078838405Z",
     "start_time": "2024-03-21T08:19:58.025494498Z"
    }
   },
   "id": "3e6063c06b6d3479",
   "execution_count": 14
  },
  {
   "cell_type": "code",
   "outputs": [
    {
     "name": "stdout",
     "output_type": "stream",
     "text": [
      "\n",
      "---STARTING TRAINING PHASE 0\n",
      "EPOCHS:16 LEARNING_RATE:0.001\n",
      "Epoch 1/16\n"
     ]
    },
    {
     "name": "stderr",
     "output_type": "stream",
     "text": [
      "2024-03-21 09:20:08.173525: E tensorflow/core/grappler/optimizers/meta_optimizer.cc:961] layout failed: INVALID_ARGUMENT: Size of values 0 does not match size of permutation 4 @ fanin shape inEfficientNet/block2b_drop/dropout/SelectV2-2-TransposeNHWCToNCHW-LayoutOptimizer\n",
      "2024-03-21 09:20:09.698935: I external/local_xla/xla/stream_executor/cuda/cuda_dnn.cc:454] Loaded cuDNN version 8904\n",
      "2024-03-21 09:20:09.740070: I external/local_tsl/tsl/platform/default/subprocess.cc:304] Start cannot spawn child process: No such file or directory\n",
      "2024-03-21 09:20:10.263779: I external/local_xla/xla/service/service.cc:168] XLA service 0x76d8c995ecb0 initialized for platform CUDA (this does not guarantee that XLA will be used). Devices:\n",
      "2024-03-21 09:20:10.263795: I external/local_xla/xla/service/service.cc:176]   StreamExecutor device (0): NVIDIA GeForce RTX 3090, Compute Capability 8.6\n",
      "2024-03-21 09:20:10.266850: I tensorflow/compiler/mlir/tensorflow/utils/dump_mlir_util.cc:269] disabling MLIR crash reproducer, set env var `MLIR_CRASH_REPRODUCER_DIRECTORY` to enable.\n",
      "WARNING: All log messages before absl::InitializeLog() is called are written to STDERR\n",
      "I0000 00:00:1711009210.319748   83066 device_compiler.h:186] Compiled cluster using XLA!  This line is logged at most once for the lifetime of the process.\n"
     ]
    },
    {
     "name": "stdout",
     "output_type": "stream",
     "text": [
      "126/126 [==============================] - 37s 129ms/step - loss: 0.2268 - accuracy: 0.2884 - val_loss: 1.4748 - val_accuracy: 0.4481\n",
      "Epoch 2/16\n",
      "126/126 [==============================] - 14s 110ms/step - loss: 0.2085 - accuracy: 0.3814 - val_loss: 1.3443 - val_accuracy: 0.5571\n",
      "Epoch 3/16\n",
      "126/126 [==============================] - 15s 118ms/step - loss: 0.2028 - accuracy: 0.3777 - val_loss: 1.2543 - val_accuracy: 0.5727\n",
      "Epoch 4/16\n",
      "126/126 [==============================] - 14s 109ms/step - loss: 0.1943 - accuracy: 0.3854 - val_loss: 1.4603 - val_accuracy: 0.5792\n",
      "Epoch 5/16\n",
      "126/126 [==============================] - 14s 107ms/step - loss: 0.1632 - accuracy: 0.4621 - val_loss: 1.2350 - val_accuracy: 0.6273\n",
      "Epoch 6/16\n",
      "126/126 [==============================] - 14s 113ms/step - loss: 0.1640 - accuracy: 0.5144 - val_loss: 1.0331 - val_accuracy: 0.6260\n",
      "Epoch 7/16\n",
      "126/126 [==============================] - 14s 108ms/step - loss: 0.1661 - accuracy: 0.4998 - val_loss: 1.0465 - val_accuracy: 0.6247\n",
      "Epoch 8/16\n",
      "126/126 [==============================] - 13s 104ms/step - loss: 0.1579 - accuracy: 0.5122 - val_loss: 1.0431 - val_accuracy: 0.6299\n",
      "Epoch 9/16\n",
      "126/126 [==============================] - 13s 102ms/step - loss: 0.1596 - accuracy: 0.5254 - val_loss: 1.1540 - val_accuracy: 0.6013\n",
      "Epoch 10/16\n",
      "126/126 [==============================] - 14s 108ms/step - loss: 0.1441 - accuracy: 0.5868 - val_loss: 1.0413 - val_accuracy: 0.6312\n",
      "Epoch 11/16\n",
      "126/126 [==============================] - 13s 103ms/step - loss: 0.1451 - accuracy: 0.5747 - val_loss: 1.1316 - val_accuracy: 0.6481\n",
      "Epoch 12/16\n",
      "126/126 [==============================] - 13s 100ms/step - loss: 0.1276 - accuracy: 0.6577 - val_loss: 1.2364 - val_accuracy: 0.5442\n",
      "Epoch 13/16\n",
      "126/126 [==============================] - 13s 103ms/step - loss: 0.1507 - accuracy: 0.5665 - val_loss: 0.8966 - val_accuracy: 0.7039\n",
      "Epoch 14/16\n",
      "126/126 [==============================] - 13s 100ms/step - loss: 0.1157 - accuracy: 0.6811 - val_loss: 0.9881 - val_accuracy: 0.6558\n",
      "Epoch 15/16\n",
      "126/126 [==============================] - 13s 101ms/step - loss: 0.1091 - accuracy: 0.7197 - val_loss: 1.7990 - val_accuracy: 0.5338\n",
      "Epoch 16/16\n",
      "126/126 [==============================] - 13s 100ms/step - loss: 0.1399 - accuracy: 0.6124 - val_loss: 0.9799 - val_accuracy: 0.6688\n",
      "\n",
      "---STARTING TRAINING PHASE 1\n",
      "EPOCHS:12 LEARNING_RATE:0.0001\n",
      "Loading model from affectnet_occluded_and_emojihero_transfer_imagenet_checkpoints_20240321-0919/best_model_phase_0.keras\n",
      "Epoch 17/28\n"
     ]
    },
    {
     "name": "stderr",
     "output_type": "stream",
     "text": [
      "2024-03-21 09:24:15.763932: E tensorflow/core/grappler/optimizers/meta_optimizer.cc:961] layout failed: INVALID_ARGUMENT: Size of values 0 does not match size of permutation 4 @ fanin shape inEfficientNet/block2b_drop/dropout/SelectV2-2-TransposeNHWCToNCHW-LayoutOptimizer\n"
     ]
    },
    {
     "name": "stdout",
     "output_type": "stream",
     "text": [
      "126/126 [==============================] - 31s 109ms/step - loss: 0.1130 - accuracy: 0.7068 - val_loss: 0.8341 - val_accuracy: 0.6857\n",
      "Epoch 18/28\n",
      "126/126 [==============================] - 13s 101ms/step - loss: 0.1066 - accuracy: 0.7397 - val_loss: 0.8250 - val_accuracy: 0.7013\n",
      "Epoch 19/28\n",
      "126/126 [==============================] - 13s 102ms/step - loss: 0.0859 - accuracy: 0.7760 - val_loss: 0.7846 - val_accuracy: 0.7234\n",
      "Epoch 20/28\n",
      "126/126 [==============================] - 14s 108ms/step - loss: 0.0878 - accuracy: 0.7337 - val_loss: 0.8226 - val_accuracy: 0.7156\n",
      "Epoch 21/28\n",
      "126/126 [==============================] - 12s 97ms/step - loss: 0.0891 - accuracy: 0.7743 - val_loss: 0.8146 - val_accuracy: 0.6870\n",
      "Epoch 22/28\n",
      "126/126 [==============================] - 12s 97ms/step - loss: 0.0711 - accuracy: 0.8543 - val_loss: 0.7586 - val_accuracy: 0.7091\n",
      "Epoch 23/28\n",
      "126/126 [==============================] - 12s 97ms/step - loss: 0.0682 - accuracy: 0.8279 - val_loss: 0.8444 - val_accuracy: 0.6883\n",
      "Epoch 24/28\n",
      "126/126 [==============================] - 12s 97ms/step - loss: 0.0660 - accuracy: 0.8433 - val_loss: 0.7728 - val_accuracy: 0.7234\n",
      "Epoch 25/28\n",
      "126/126 [==============================] - 13s 101ms/step - loss: 0.0589 - accuracy: 0.8645 - val_loss: 0.8181 - val_accuracy: 0.6935\n",
      "Epoch 26/28\n",
      "126/126 [==============================] - 12s 97ms/step - loss: 0.0526 - accuracy: 0.8749 - val_loss: 0.8026 - val_accuracy: 0.7104\n",
      "Epoch 27/28\n",
      "126/126 [==============================] - 12s 99ms/step - loss: 0.0470 - accuracy: 0.8617 - val_loss: 0.8324 - val_accuracy: 0.7143\n",
      "Epoch 28/28\n",
      "126/126 [==============================] - 12s 97ms/step - loss: 0.0411 - accuracy: 0.8822 - val_loss: 0.7659 - val_accuracy: 0.7221\n",
      "\n",
      "---STARTING TRAINING PHASE 2\n",
      "EPOCHS:12 LEARNING_RATE:1e-05\n",
      "Loading model from affectnet_occluded_and_emojihero_transfer_imagenet_checkpoints_20240321-0919/best_model_phase_1.keras\n",
      "Epoch 29/40\n"
     ]
    },
    {
     "name": "stderr",
     "output_type": "stream",
     "text": [
      "2024-03-21 09:27:15.815971: E tensorflow/core/grappler/optimizers/meta_optimizer.cc:961] layout failed: INVALID_ARGUMENT: Size of values 0 does not match size of permutation 4 @ fanin shape inEfficientNet/block2b_drop/dropout/SelectV2-2-TransposeNHWCToNCHW-LayoutOptimizer\n"
     ]
    },
    {
     "name": "stdout",
     "output_type": "stream",
     "text": [
      "126/126 [==============================] - 31s 106ms/step - loss: 0.0835 - accuracy: 0.7930 - val_loss: 0.7770 - val_accuracy: 0.7273\n",
      "Epoch 30/40\n",
      "126/126 [==============================] - 12s 97ms/step - loss: 0.0770 - accuracy: 0.8022 - val_loss: 0.7912 - val_accuracy: 0.7156\n",
      "Epoch 31/40\n",
      "126/126 [==============================] - 12s 97ms/step - loss: 0.0853 - accuracy: 0.8002 - val_loss: 0.7911 - val_accuracy: 0.7117\n",
      "Epoch 32/40\n",
      "126/126 [==============================] - 13s 101ms/step - loss: 0.0853 - accuracy: 0.8134 - val_loss: 0.7881 - val_accuracy: 0.7156\n",
      "Epoch 33/40\n",
      "126/126 [==============================] - 12s 96ms/step - loss: 0.0853 - accuracy: 0.7775 - val_loss: 0.8035 - val_accuracy: 0.7078\n",
      "Epoch 34/40\n",
      "126/126 [==============================] - 12s 99ms/step - loss: 0.0725 - accuracy: 0.8236 - val_loss: 0.7947 - val_accuracy: 0.7169\n",
      "Epoch 35/40\n",
      "126/126 [==============================] - 12s 97ms/step - loss: 0.0810 - accuracy: 0.7673 - val_loss: 0.8058 - val_accuracy: 0.7078\n",
      "Epoch 36/40\n",
      "126/126 [==============================] - 13s 104ms/step - loss: 0.0814 - accuracy: 0.7977 - val_loss: 0.8001 - val_accuracy: 0.7104\n",
      "Epoch 37/40\n",
      "126/126 [==============================] - 13s 107ms/step - loss: 0.0752 - accuracy: 0.8226 - val_loss: 0.7813 - val_accuracy: 0.7169\n",
      "Epoch 38/40\n",
      "126/126 [==============================] - 14s 109ms/step - loss: 0.0733 - accuracy: 0.8288 - val_loss: 0.7818 - val_accuracy: 0.7182\n",
      "Epoch 39/40\n",
      "126/126 [==============================] - 12s 96ms/step - loss: 0.0882 - accuracy: 0.8079 - val_loss: 0.7849 - val_accuracy: 0.7117\n",
      "Epoch 40/40\n",
      "126/126 [==============================] - 13s 101ms/step - loss: 0.0825 - accuracy: 0.7957 - val_loss: 0.7790 - val_accuracy: 0.7130\n"
     ]
    }
   ],
   "source": [
    "import datetime\n",
    "from tensorflow.keras.callbacks import ModelCheckpoint\n",
    "from tensorflow.keras.models import load_model\n",
    "\n",
    "timestamp = datetime.datetime.now().strftime(\"%Y%m%d-%H%M\")\n",
    "checkpoint_dir = Path(f\"affectnet_occluded_and_emojihero_transfer_imagenet_checkpoints_{timestamp}\")\n",
    "training_histories = []\n",
    "epoch_counter = 0\n",
    "start_phase = 0\n",
    "epochs_per_phase = [16, 12, 12]\n",
    "learning_rate_per_phase = [1e-3, 1e-4, 1e-5]\n",
    "\n",
    "steps_per_epoch = (total_num_samples + total_num_samples * (\n",
    "        dataset_weights[0] / dataset_weights[1])) // BATCH_SIZE\n",
    "\n",
    "for phase in range(start_phase, len(epochs_per_phase)):\n",
    "    epochs = epochs_per_phase[phase]\n",
    "    learning_rate = learning_rate_per_phase[phase]\n",
    "\n",
    "    print(f'\\n---STARTING TRAINING PHASE {phase}')\n",
    "    print(f'EPOCHS:{epochs} LEARNING_RATE:{learning_rate}')\n",
    "    checkpoint_filepath = str(checkpoint_dir / f'best_model_phase_{phase}.keras')\n",
    "\n",
    "    model_checkpoint_callback = ModelCheckpoint(filepath=checkpoint_filepath,\n",
    "                                                save_weights_only=False,\n",
    "                                                monitor='val_accuracy',\n",
    "                                                mode='max',\n",
    "                                                save_best_only=True)\n",
    "\n",
    "    old_checkpoint_filepath = checkpoint_filepath.replace(f'phase_{phase}', f'phase_{phase - 1}')\n",
    "    if Path(old_checkpoint_filepath).exists():\n",
    "        print(f'Loading model from {old_checkpoint_filepath}')\n",
    "        model = load_model(old_checkpoint_filepath)\n",
    "\n",
    "    optimizer = keras.optimizers.Adam(learning_rate=learning_rate)\n",
    "    model.compile(optimizer=optimizer,\n",
    "                  loss=\"sparse_categorical_crossentropy\",\n",
    "                  metrics=[\"accuracy\"])\n",
    "\n",
    "    hist = model.fit(combined_training_set,\n",
    "                     epochs=epoch_counter + epochs,\n",
    "                     steps_per_epoch=steps_per_epoch,\n",
    "                     validation_data=emojihero_validation_set,\n",
    "                     class_weight=class_weights,\n",
    "                     callbacks=[model_checkpoint_callback],\n",
    "                     initial_epoch=epoch_counter)\n",
    "\n",
    "    epoch_counter += epochs\n",
    "    training_histories.append(hist)"
   ],
   "metadata": {
    "collapsed": false,
    "ExecuteTime": {
     "end_time": "2024-03-21T08:29:55.657495378Z",
     "start_time": "2024-03-21T08:19:58.025509243Z"
    }
   },
   "id": "ca4de4ada092834",
   "execution_count": 15
  },
  {
   "cell_type": "code",
   "outputs": [
    {
     "data": {
      "text/plain": "<Figure size 640x480 with 1 Axes>",
      "image/png": "[encoded data removed]"
     },
     "metadata": {},
     "output_type": "display_data"
    }
   ],
   "source": [
    "import matplotlib.pyplot as plt\n",
    "\n",
    "\n",
    "def plot_and_save_combined_history(hists, checkpoint_dir):\n",
    "    acc = []\n",
    "    val_acc = []\n",
    "\n",
    "    for hist in hists:\n",
    "        acc += hist.history[\"accuracy\"]\n",
    "        val_acc += hist.history[\"val_accuracy\"]\n",
    "\n",
    "    epochs = range(1, len(acc) + 1)\n",
    "\n",
    "    plt.plot(epochs, acc, label=\"training\")\n",
    "    plt.plot(epochs, val_acc, label=\"validation\")\n",
    "    plt.title(\"model accuracy\")\n",
    "    plt.ylabel(\"accuracy\")\n",
    "    plt.xlabel(\"epoch\")\n",
    "    plt.legend(loc=\"upper left\")\n",
    "\n",
    "    plt.savefig(str(checkpoint_dir / 'training_history.png'))\n",
    "\n",
    "    plt.show()\n",
    "\n",
    "\n",
    "plot_and_save_combined_history(training_histories, checkpoint_dir)"
   ],
   "metadata": {
    "collapsed": false,
    "ExecuteTime": {
     "end_time": "2024-03-21T08:29:55.789836807Z",
     "start_time": "2024-03-21T08:29:55.659001889Z"
    }
   },
   "id": "4773a42a59ef1159",
   "execution_count": 16
  },
  {
   "cell_type": "code",
   "outputs": [],
   "source": [
    "import csv\n",
    "\n",
    "\n",
    "def save_training_history_csv(hists, checkpoint_dir):\n",
    "    acc = []\n",
    "    val_acc = []\n",
    "    for hist in hists:\n",
    "        acc.extend(hist.history[\"accuracy\"])\n",
    "        val_acc.extend(hist.history[\"val_accuracy\"])\n",
    "\n",
    "    epochs = range(1, len(acc) + 1)\n",
    "\n",
    "    # CSV-Datei schreiben\n",
    "    with (checkpoint_dir / 'training_history.csv').open(mode='w', newline='') as file:\n",
    "        writer = csv.writer(file)\n",
    "        writer.writerow(['epoch', 'accuracy', 'val_accuracy'])\n",
    "        for epoch, accuracy, val_accuracy in zip(epochs, acc, val_acc):\n",
    "            writer.writerow([epoch, accuracy, val_accuracy])\n",
    "\n",
    "\n",
    "save_training_history_csv(training_histories, checkpoint_dir)"
   ],
   "metadata": {
    "collapsed": false,
    "ExecuteTime": {
     "end_time": "2024-03-21T08:29:55.793379991Z",
     "start_time": "2024-03-21T08:29:55.791331544Z"
    }
   },
   "id": "2924f0223ddb1da0",
   "execution_count": 17
  },
  {
   "cell_type": "code",
   "outputs": [],
   "source": [
    "best_checkpoint = str(checkpoint_dir / \"best_model_phase_2.keras\")\n",
    "model = load_model(best_checkpoint)"
   ],
   "metadata": {
    "collapsed": false,
    "ExecuteTime": {
     "end_time": "2024-03-21T08:30:06.742230511Z",
     "start_time": "2024-03-21T08:29:55.793060735Z"
    }
   },
   "id": "6949eb7ece9229d9",
   "execution_count": 18
  },
  {
   "cell_type": "code",
   "outputs": [
    {
     "name": "stdout",
     "output_type": "stream",
     "text": [
      "\n",
      "---AFFECTNET---\n",
      "---TEST SET---\n",
      "Found 3500 files belonging to 7 classes.\n",
      "0 - Neutral   :      500 images\n",
      "1 - Happy     :      500 images\n",
      "2 - Sad       :      500 images\n",
      "3 - Surprise  :      500 images\n",
      "4 - Fear      :      500 images\n",
      "5 - Disgust   :      500 images\n",
      "6 - Anger     :      500 images\n"
     ]
    },
    {
     "data": {
      "text/plain": "{0: 500, 1: 500, 2: 500, 3: 500, 4: 500, 5: 500, 6: 500}"
     },
     "execution_count": 19,
     "metadata": {},
     "output_type": "execute_result"
    }
   ],
   "source": [
    "print('\\n---AFFECTNET---')\n",
    "print('---TEST SET---')\n",
    "affectnet_test_set = keras.preprocessing.image_dataset_from_directory(affectnet_test_set_path,\n",
    "                                                                      batch_size=BATCH_SIZE,\n",
    "                                                                      image_size=IMAGE_SIZE,\n",
    "                                                                      shuffle=False)\n",
    "compute_class_frequencies(affectnet_test_set_path)\n"
   ],
   "metadata": {
    "collapsed": false,
    "ExecuteTime": {
     "end_time": "2024-03-21T08:30:06.794438689Z",
     "start_time": "2024-03-21T08:30:06.743802963Z"
    }
   },
   "id": "1d3d1c2b782dbedd",
   "execution_count": 19
  },
  {
   "cell_type": "code",
   "outputs": [
    {
     "name": "stdout",
     "output_type": "stream",
     "text": [
      "110/110 [==============================] - 4s 26ms/step - loss: 1.9909 - accuracy: 0.2057\n",
      "Test accuracy: 0.20571428537368774\n"
     ]
    }
   ],
   "source": [
    "affectnet_test_loss, affectnet_test_acc = model.evaluate(affectnet_test_set)\n",
    "print(f\"Test accuracy: {affectnet_test_acc}\")"
   ],
   "metadata": {
    "collapsed": false,
    "ExecuteTime": {
     "end_time": "2024-03-21T08:30:11.151050386Z",
     "start_time": "2024-03-21T08:30:06.793459831Z"
    }
   },
   "id": "ba5b76a92c8f6bc7",
   "execution_count": 20
  },
  {
   "cell_type": "code",
   "outputs": [
    {
     "name": "stdout",
     "output_type": "stream",
     "text": [
      "\n",
      "---EMOJIHERO---\n",
      "---TEST SET---\n",
      "Found 756 files belonging to 7 classes.\n",
      "0 - Neutral   :      108 images\n",
      "1 - Happy     :      108 images\n",
      "2 - Sad       :      108 images\n",
      "3 - Surprise  :      108 images\n",
      "4 - Fear      :      108 images\n",
      "5 - Disgust   :      108 images\n",
      "6 - Anger     :      108 images\n"
     ]
    },
    {
     "data": {
      "text/plain": "{0: 108, 1: 108, 2: 108, 3: 108, 4: 108, 5: 108, 6: 108}"
     },
     "execution_count": 21,
     "metadata": {},
     "output_type": "execute_result"
    }
   ],
   "source": [
    "print('\\n---EMOJIHERO---')\n",
    "print('---TEST SET---')\n",
    "emojihero_test_set = keras.preprocessing.image_dataset_from_directory(emojihero_test_set_path,\n",
    "                                                                      batch_size=BATCH_SIZE,\n",
    "                                                                      image_size=IMAGE_SIZE,\n",
    "                                                                      shuffle=False)\n",
    "compute_class_frequencies(emojihero_test_set_path)"
   ],
   "metadata": {
    "collapsed": false,
    "ExecuteTime": {
     "end_time": "2024-03-21T08:30:11.197657483Z",
     "start_time": "2024-03-21T08:30:11.149954296Z"
    }
   },
   "id": "85f8aee418b4f0b4",
   "execution_count": 21
  },
  {
   "cell_type": "code",
   "outputs": [
    {
     "name": "stdout",
     "output_type": "stream",
     "text": [
      "24/24 [==============================] - 1s 25ms/step - loss: 0.8752 - accuracy: 0.7011\n",
      "Test accuracy: 0.7010582089424133\n"
     ]
    }
   ],
   "source": [
    "emojihero_test_loss, emojihero_test_acc = model.evaluate(emojihero_test_set)\n",
    "print(f\"Test accuracy: {emojihero_test_acc}\")"
   ],
   "metadata": {
    "collapsed": false,
    "ExecuteTime": {
     "end_time": "2024-03-21T08:30:11.790818369Z",
     "start_time": "2024-03-21T08:30:11.197475108Z"
    }
   },
   "id": "80a78081e6118832",
   "execution_count": 22
  },
  {
   "cell_type": "code",
   "outputs": [
    {
     "name": "stdout",
     "output_type": "stream",
     "text": [
      "110/110 [==============================] - 4s 23ms/step\n",
      "              precision    recall  f1-score   support\n",
      "\n",
      "     Neutral     0.2878    0.1980    0.2346       500\n",
      "       Happy     0.5126    0.3660    0.4271       500\n",
      "         Sad     0.1319    0.0240    0.0406       500\n",
      "    Surprise     0.3750    0.0600    0.1034       500\n",
      "        Fear     0.2755    0.0540    0.0903       500\n",
      "     Disgust     0.1445    0.6120    0.2338       500\n",
      "       Anger     0.1529    0.1260    0.1382       500\n",
      "\n",
      "    accuracy                         0.2057      3500\n",
      "   macro avg     0.2686    0.2057    0.1811      3500\n",
      "weighted avg     0.2686    0.2057    0.1811      3500\n"
     ]
    }
   ],
   "source": [
    "import numpy as np\n",
    "from sklearn.metrics import classification_report\n",
    "\n",
    "affectnet_y_pred_vectors = model.predict(affectnet_test_set)\n",
    "affectnet_y_pred = np.argmax(affectnet_y_pred_vectors, axis=1)\n",
    "affectnet_y_true = np.concatenate([y for _, y in affectnet_test_set], axis=0)\n",
    "\n",
    "affectnet_report = classification_report(affectnet_y_true, affectnet_y_pred, target_names=id_to_emotion.values(),\n",
    "                                         digits=4)\n",
    "print(affectnet_report)"
   ],
   "metadata": {
    "collapsed": false,
    "ExecuteTime": {
     "end_time": "2024-03-21T08:30:15.912679763Z",
     "start_time": "2024-03-21T08:30:11.789535804Z"
    }
   },
   "id": "1c875e3e7b3d6d5b",
   "execution_count": 23
  },
  {
   "cell_type": "code",
   "outputs": [
    {
     "name": "stdout",
     "output_type": "stream",
     "text": [
      "[[ 99  21  10   3   3 310  54]\n",
      " [ 18 183  23   2   2 179  93]\n",
      " [ 62  28  12   9  12 318  59]\n",
      " [ 37  32  10  30  26 326  39]\n",
      " [ 28  22  14  11  27 358  40]\n",
      " [ 33  50  13  14  20 306  64]\n",
      " [ 67  21   9  11   8 321  63]]\n"
     ]
    },
    {
     "data": {
      "text/plain": "<Figure size 1000x800 with 2 Axes>",
      "image/png": "[encoded data removed]"
     },
     "metadata": {},
     "output_type": "display_data"
    }
   ],
   "source": [
    "from sklearn.metrics import confusion_matrix\n",
    "import matplotlib.pyplot as plt\n",
    "import seaborn as sns\n",
    "\n",
    "\n",
    "def plot_confusion_matrix(y_true, y_pred):\n",
    "    class_names = id_to_emotion.values()\n",
    "\n",
    "    cm = confusion_matrix(y_true, y_pred)\n",
    "    print(cm)\n",
    "\n",
    "    fig = plt.figure(figsize=(10, 8))\n",
    "    sns.heatmap(cm, annot=True, fmt='d', cmap='Blues', xticklabels=class_names, yticklabels=class_names)\n",
    "    plt.title('Confusion Matrix')\n",
    "    plt.xlabel('Predicted Class')\n",
    "    plt.ylabel('Actual Class')\n",
    "    plt.tight_layout()\n",
    "    plt.show()\n",
    "\n",
    "    return fig\n",
    "\n",
    "\n",
    "affectnet_cm_figure = plot_confusion_matrix(affectnet_y_true, affectnet_y_pred)\n"
   ],
   "metadata": {
    "collapsed": false,
    "ExecuteTime": {
     "end_time": "2024-03-21T08:30:16.054612756Z",
     "start_time": "2024-03-21T08:30:15.911681157Z"
    }
   },
   "id": "914b692b48639591",
   "execution_count": 24
  },
  {
   "cell_type": "code",
   "outputs": [],
   "source": [
    "def save_evaluation_results(report, cm_figure, checkpoint_dir, dataset_name):\n",
    "    with (checkpoint_dir / f'{dataset_name}_classification_report.txt').open(mode='w') as f:\n",
    "        f.write(report)\n",
    "    cm_figure.savefig(str(checkpoint_dir / f'{dataset_name}_confusion_matrix.png'))\n",
    "\n",
    "\n",
    "save_evaluation_results(affectnet_report, affectnet_cm_figure, checkpoint_dir, 'affectnet')"
   ],
   "metadata": {
    "collapsed": false,
    "ExecuteTime": {
     "end_time": "2024-03-21T08:30:16.125381046Z",
     "start_time": "2024-03-21T08:30:16.053615695Z"
    }
   },
   "id": "176b9ffbadf9bda2",
   "execution_count": 25
  },
  {
   "cell_type": "code",
   "outputs": [
    {
     "name": "stdout",
     "output_type": "stream",
     "text": [
      "24/24 [==============================] - 1s 22ms/step\n",
      "              precision    recall  f1-score   support\n",
      "\n",
      "     Neutral     0.8222    0.6852    0.7475       108\n",
      "       Happy     0.7419    0.8519    0.7931       108\n",
      "         Sad     0.7582    0.6389    0.6935       108\n",
      "    Surprise     0.8158    0.8611    0.8378       108\n",
      "        Fear     0.7071    0.6481    0.6763       108\n",
      "     Disgust     0.6145    0.4722    0.5340       108\n",
      "       Anger     0.5226    0.7500    0.6160       108\n",
      "\n",
      "    accuracy                         0.7011       756\n",
      "   macro avg     0.7118    0.7011    0.6997       756\n",
      "weighted avg     0.7118    0.7011    0.6997       756\n"
     ]
    }
   ],
   "source": [
    "emojihero_y_pred_vectors = model.predict(emojihero_test_set)\n",
    "emojihero_y_pred = np.argmax(emojihero_y_pred_vectors, axis=1)\n",
    "emojihero_y_true = np.concatenate([y for _, y in emojihero_test_set], axis=0)\n",
    "\n",
    "emojihero_report = classification_report(emojihero_y_true, emojihero_y_pred, target_names=id_to_emotion.values(),\n",
    "                                         digits=4)\n",
    "print(emojihero_report)"
   ],
   "metadata": {
    "collapsed": false,
    "ExecuteTime": {
     "end_time": "2024-03-21T08:30:16.718736619Z",
     "start_time": "2024-03-21T08:30:16.116146172Z"
    }
   },
   "id": "ec7550998b75b89f",
   "execution_count": 26
  },
  {
   "cell_type": "code",
   "outputs": [
    {
     "name": "stdout",
     "output_type": "stream",
     "text": [
      "[[74  4 15  1  1  5  8]\n",
      " [ 5 92  0  0  2  2  7]\n",
      " [ 4  0 69  0  3  3 29]\n",
      " [ 1  0  0 93 13  1  0]\n",
      " [ 1 10  0 16 70  7  4]\n",
      " [ 1 15  4  3  8 51 26]\n",
      " [ 4  3  3  1  2 14 81]]\n"
     ]
    },
    {
     "data": {
      "text/plain": "<Figure size 1000x800 with 2 Axes>",
      "image/png": "[encoded data removed]"
     },
     "metadata": {},
     "output_type": "display_data"
    }
   ],
   "source": [
    "emojihero_cm_figure = plot_confusion_matrix(emojihero_y_true, emojihero_y_pred)"
   ],
   "metadata": {
    "collapsed": false,
    "ExecuteTime": {
     "end_time": "2024-03-21T08:30:16.853505316Z",
     "start_time": "2024-03-21T08:30:16.719548798Z"
    }
   },
   "id": "214f25903989cdc3",
   "execution_count": 27
  },
  {
   "cell_type": "code",
   "outputs": [],
   "source": [
    "save_evaluation_results(emojihero_report, emojihero_cm_figure, checkpoint_dir, 'emojihero')"
   ],
   "metadata": {
    "collapsed": false,
    "ExecuteTime": {
     "end_time": "2024-03-21T08:30:16.916319333Z",
     "start_time": "2024-03-21T08:30:16.853991796Z"
    }
   },
   "id": "b572c0812a53a9e9",
   "execution_count": 28
  },
  {
   "cell_type": "code",
   "outputs": [
    {
     "data": {
      "text/plain": "PosixPath('affectnet_occluded_and_emojihero_transfer_imagenet_checkpoints_20240321-0919/affectnet_occluded_and_emojihero_transfer_imagenet.ipynb')"
     },
     "execution_count": 29,
     "metadata": {},
     "output_type": "execute_result"
    }
   ],
   "source": [
    "import shutil\n",
    "\n",
    "path_to_this_notebook = Path(\n",
    "    '/home/thor/Desktop/repos/emoji-hero-baseline/affectnet_occluded_and_emojihero_transfer_imagenet.ipynb')\n",
    "\n",
    "shutil.copy2(path_to_this_notebook, (checkpoint_dir / path_to_this_notebook.name))"
   ],
   "metadata": {
    "collapsed": false,
    "ExecuteTime": {
     "end_time": "2024-03-21T08:30:16.917127022Z",
     "start_time": "2024-03-21T08:30:16.911863166Z"
    }
   },
   "id": "beac2ff44eade364",
   "execution_count": 29
  }
 ],
 "metadata": {
  "kernelspec": {
   "display_name": "Python 3",
   "language": "python",
   "name": "python3"
  },
  "language_info": {
   "codemirror_mode": {
    "name": "ipython",
    "version": 2
   },
   "file_extension": ".py",
   "mimetype": "text/x-python",
   "name": "python",
   "nbconvert_exporter": "python",
   "pygments_lexer": "ipython2",
   "version": "2.7.6"
  }
 },
 "nbformat": 4,
 "nbformat_minor": 5
}
